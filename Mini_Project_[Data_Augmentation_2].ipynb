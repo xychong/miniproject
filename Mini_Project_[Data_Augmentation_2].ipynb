{
  "nbformat": 4,
  "nbformat_minor": 0,
  "metadata": {
    "colab": {
      "name": "Mini Project [Data Augmentation 2].ipynb",
      "provenance": [],
      "collapsed_sections": [],
      "authorship_tag": "ABX9TyO+DMgvaC+B3dH1wT/HdE5+",
      "include_colab_link": true
    },
    "kernelspec": {
      "name": "python3",
      "display_name": "Python 3"
    },
    "language_info": {
      "name": "python"
    }
  },
  "cells": [
    {
      "cell_type": "markdown",
      "metadata": {
        "id": "view-in-github",
        "colab_type": "text"
      },
      "source": [
        "<a href=\"https://colab.research.google.com/github/xychong/miniproject/blob/main/Mini_Project_%5BData_Augmentation_2%5D.ipynb\" target=\"_parent\"><img src=\"https://colab.research.google.com/assets/colab-badge.svg\" alt=\"Open In Colab\"/></a>"
      ]
    },
    {
      "cell_type": "code",
      "metadata": {
        "id": "3edEbru4Xd77"
      },
      "source": [
        "import tensorflow as tf\n",
        "import numpy as np\n",
        "from tensorflow import keras\n",
        "import os\n",
        "import cv2\n",
        "from tensorflow.keras.preprocessing.image import ImageDataGenerator\n",
        "from tensorflow.keras.preprocessing import image\n",
        "import matplotlib.pyplot as plt\n",
        "\n",
        "import pandas as pd\n",
        "import numpy as np"
      ],
      "execution_count": 1,
      "outputs": []
    },
    {
      "cell_type": "code",
      "metadata": {
        "colab": {
          "base_uri": "https://localhost:8080/"
        },
        "id": "VmVHSEk5XimW",
        "outputId": "f6a34f1d-a815-4bc7-e322-0ca3b9ef018b"
      },
      "source": [
        "print(tf.__version__)"
      ],
      "execution_count": 2,
      "outputs": [
        {
          "output_type": "stream",
          "name": "stdout",
          "text": [
            "2.6.0\n"
          ]
        }
      ]
    },
    {
      "cell_type": "code",
      "metadata": {
        "colab": {
          "base_uri": "https://localhost:8080/"
        },
        "id": "RG07pg9nXjxC",
        "outputId": "f196211a-ccc1-4825-92b9-8cf54ebf4204"
      },
      "source": [
        "from google.colab import drive\n",
        "drive.mount('/content/drive')"
      ],
      "execution_count": 3,
      "outputs": [
        {
          "output_type": "stream",
          "name": "stdout",
          "text": [
            "Drive already mounted at /content/drive; to attempt to forcibly remount, call drive.mount(\"/content/drive\", force_remount=True).\n"
          ]
        }
      ]
    },
    {
      "cell_type": "code",
      "metadata": {
        "id": "_L8mL4beXk4R"
      },
      "source": [
        "train_path = \"/content/drive/MyDrive/Data/train\"\n",
        "train_path_cat = \"/content/drive/MyDrive/Data/train/cat\"\n",
        "train_path_dog = \"/content/drive/MyDrive/Data/train/dog\"\n",
        "\n",
        "val_path = \"/content/drive/MyDrive/Data/val\"\n",
        "val_path_cat = \"/content/drive/MyDrive/Data/val/cat\"\n",
        "val_path_dog = \"/content/drive/MyDrive/Data/val/dog\"\n",
        "\n",
        "test_path = \"/content/drive/MyDrive/Data/test/\""
      ],
      "execution_count": 4,
      "outputs": []
    },
    {
      "cell_type": "code",
      "metadata": {
        "colab": {
          "base_uri": "https://localhost:8080/"
        },
        "id": "lPnVmrNjXp6n",
        "outputId": "244d1674-6bbb-4568-827e-fc8ce35ed9a4"
      },
      "source": [
        "count = 0\n",
        "for filename in os.listdir(train_path_cat):\n",
        "  count += 1\n",
        "print(\"Number of cat images for training: \" + str(count))"
      ],
      "execution_count": 5,
      "outputs": [
        {
          "output_type": "stream",
          "name": "stdout",
          "text": [
            "Number of cat images for training: 1600\n"
          ]
        }
      ]
    },
    {
      "cell_type": "code",
      "metadata": {
        "colab": {
          "base_uri": "https://localhost:8080/"
        },
        "id": "sHGVsx-KXrvP",
        "outputId": "6a3d245f-3aad-49d6-b3cc-9a4123c26e92"
      },
      "source": [
        "count = 0\n",
        "for filename in os.listdir(train_path_dog):\n",
        "  count += 1\n",
        "print(\"Number of dog images for training: \" + str(count))"
      ],
      "execution_count": 6,
      "outputs": [
        {
          "output_type": "stream",
          "name": "stdout",
          "text": [
            "Number of dog images for training: 1600\n"
          ]
        }
      ]
    },
    {
      "cell_type": "code",
      "metadata": {
        "colab": {
          "base_uri": "https://localhost:8080/"
        },
        "id": "plkV4OlOXtHn",
        "outputId": "89fe7cce-646b-4a3d-e8b0-a54831b9bf6e"
      },
      "source": [
        "count = 0\n",
        "for filename in os.listdir(val_path_cat):\n",
        "  count += 1\n",
        "print(\"Number of cat images for validation: \" + str(count))"
      ],
      "execution_count": 7,
      "outputs": [
        {
          "output_type": "stream",
          "name": "stdout",
          "text": [
            "Number of cat images for validation: 400\n"
          ]
        }
      ]
    },
    {
      "cell_type": "code",
      "metadata": {
        "colab": {
          "base_uri": "https://localhost:8080/"
        },
        "id": "ylZHIYOQXueO",
        "outputId": "5101717e-220c-40a4-ac1b-bba13856459c"
      },
      "source": [
        "count = 0\n",
        "for filename in os.listdir(val_path_dog):\n",
        "  count += 1\n",
        "print(\"Number of dog images for validation: \" + str(count))"
      ],
      "execution_count": 8,
      "outputs": [
        {
          "output_type": "stream",
          "name": "stdout",
          "text": [
            "Number of dog images for validation: 400\n"
          ]
        }
      ]
    },
    {
      "cell_type": "code",
      "metadata": {
        "colab": {
          "base_uri": "https://localhost:8080/"
        },
        "id": "FtP4wOSaXwBC",
        "outputId": "8f4e1234-2997-4d2a-e7f8-80bed85ecc4d"
      },
      "source": [
        "count = 0\n",
        "for filename in os.listdir(test_path):\n",
        "  count += 1\n",
        "print(\"Number of images for testing: \" + str(count))"
      ],
      "execution_count": 9,
      "outputs": [
        {
          "output_type": "stream",
          "name": "stdout",
          "text": [
            "Number of images for testing: 500\n"
          ]
        }
      ]
    },
    {
      "cell_type": "code",
      "metadata": {
        "id": "RvsNV-_UXxI4"
      },
      "source": [
        "# rotation_range: value in degrees to randomly rotate pictures\n",
        "# width_shift and height_shift: fraction of total width or heigh which to randomly translate pictures vertically or horizontally\n",
        "# rescale: value to multiply data with before processing; RGB coefficients range from 0-225, such values too high for models to process, so we target between 0 and 1\n",
        "# horizontal_flip: randomly flipping half the images horizontally\n",
        "# zoom_range: randomly zooming inside pictures\n",
        "# fill_mode: fill in newly created pixels\n",
        "\n",
        "train_datagen = ImageDataGenerator(rescale=1./255, rotation_range=40, width_shift_range=0.2, height_shift_range=0.2, shear_range=0.2, zoom_range=0.1, horizontal_flip=True, fill_mode='nearest')\n",
        "#train_datagen = ImageDataGenerator(rescale=1/255)\n",
        "val_datagen = ImageDataGenerator(rescale=1./255)"
      ],
      "execution_count": 10,
      "outputs": []
    },
    {
      "cell_type": "code",
      "metadata": {
        "colab": {
          "base_uri": "https://localhost:8080/"
        },
        "id": "3ESLUcC3Xz8W",
        "outputId": "c7d0ef37-3e0e-4af4-aa16-28ffca81ff7e"
      },
      "source": [
        "train_dataset = train_datagen.flow_from_directory(train_path,\n",
        "                                                  target_size=(150,150),\n",
        "                                                  batch_size = 32,\n",
        "                                                  class_mode = 'binary')\n",
        "\n",
        "val_dataset = val_datagen.flow_from_directory(val_path,\n",
        "                                              target_size=(150,150),\n",
        "                                              batch_size =32,\n",
        "                                              class_mode = 'binary')"
      ],
      "execution_count": 11,
      "outputs": [
        {
          "output_type": "stream",
          "name": "stdout",
          "text": [
            "Found 3200 images belonging to 2 classes.\n",
            "Found 800 images belonging to 2 classes.\n"
          ]
        }
      ]
    },
    {
      "cell_type": "code",
      "metadata": {
        "colab": {
          "base_uri": "https://localhost:8080/"
        },
        "id": "aOEHwU9oX2GP",
        "outputId": "d07eae35-1d31-41bb-a1b8-e5a5147a08bc"
      },
      "source": [
        "val_dataset.class_indices"
      ],
      "execution_count": 12,
      "outputs": [
        {
          "output_type": "execute_result",
          "data": {
            "text/plain": [
              "{'cat': 0, 'dog': 1}"
            ]
          },
          "metadata": {},
          "execution_count": 12
        }
      ]
    },
    {
      "cell_type": "code",
      "metadata": {
        "id": "Bscd6mI4X3nN"
      },
      "source": [
        "model = keras.Sequential()\n",
        "\n",
        "# Convolutional layer and maxpool layer 1\n",
        "# Input shape is (150,150,3) where (150,150) stands for image size and 3 represents RGB color channel\n",
        "# Conv2D applies a filter to input image to create a feature map that summarizes the detected features\n",
        "# MaxPool2D is a pooling operation that selects the maximum element from the region of feature map covered by filter; outputs the most prominent features of previous feature map\n",
        "model.add(keras.layers.Conv2D(32,(3,3),activation='relu',input_shape=(150,150,3)))\n",
        "model.add(keras.layers.MaxPool2D(2,2))\n",
        "\n",
        "# Convolutional layer and maxpool layer 2\n",
        "model.add(keras.layers.Conv2D(64,(3,3),activation='relu'))\n",
        "model.add(keras.layers.MaxPool2D(2,2))\n",
        "\n",
        "# Convolutional layer and maxpool layer 3\n",
        "model.add(keras.layers.Conv2D(128,(3,3),activation='relu'))\n",
        "model.add(keras.layers.MaxPool2D(2,2))\n",
        "\n",
        "# Convolutional layer and maxpool layer 4\n",
        "model.add(keras.layers.Conv2D(128,(3,3),activation='relu'))\n",
        "model.add(keras.layers.MaxPool2D(2,2))\n",
        "\n",
        "# This layer flattens the resulting multi-dimensional image array to 1D array\n",
        "model.add(keras.layers.Flatten())\n",
        "\n",
        "# Add a Dropout layer to control overfitting\n",
        "model.add(keras.layers.Dropout(0.5))\n",
        "\n",
        "# Hidden layer with 512 neurons and Rectified Linear Unit activation function \n",
        "model.add(keras.layers.Dense(512,activation='relu'))\n",
        "\n",
        "# Output layer with single neuron which gives 0 for Cat or 1 for Dog \n",
        "# Here we use sigmoid activation function which makes our model output to lie between 0 and 1\n",
        "model.add(keras.layers.Dense(1,activation='sigmoid'))"
      ],
      "execution_count": 13,
      "outputs": []
    },
    {
      "cell_type": "code",
      "metadata": {
        "colab": {
          "base_uri": "https://localhost:8080/"
        },
        "id": "9hXH6LYVX5Td",
        "outputId": "bd947d74-a846-4596-ac2c-ade218773ca0"
      },
      "source": [
        "model.summary()"
      ],
      "execution_count": 14,
      "outputs": [
        {
          "output_type": "stream",
          "name": "stdout",
          "text": [
            "Model: \"sequential\"\n",
            "_________________________________________________________________\n",
            "Layer (type)                 Output Shape              Param #   \n",
            "=================================================================\n",
            "conv2d (Conv2D)              (None, 148, 148, 32)      896       \n",
            "_________________________________________________________________\n",
            "max_pooling2d (MaxPooling2D) (None, 74, 74, 32)        0         \n",
            "_________________________________________________________________\n",
            "conv2d_1 (Conv2D)            (None, 72, 72, 64)        18496     \n",
            "_________________________________________________________________\n",
            "max_pooling2d_1 (MaxPooling2 (None, 36, 36, 64)        0         \n",
            "_________________________________________________________________\n",
            "conv2d_2 (Conv2D)            (None, 34, 34, 128)       73856     \n",
            "_________________________________________________________________\n",
            "max_pooling2d_2 (MaxPooling2 (None, 17, 17, 128)       0         \n",
            "_________________________________________________________________\n",
            "conv2d_3 (Conv2D)            (None, 15, 15, 128)       147584    \n",
            "_________________________________________________________________\n",
            "max_pooling2d_3 (MaxPooling2 (None, 7, 7, 128)         0         \n",
            "_________________________________________________________________\n",
            "flatten (Flatten)            (None, 6272)              0         \n",
            "_________________________________________________________________\n",
            "dropout (Dropout)            (None, 6272)              0         \n",
            "_________________________________________________________________\n",
            "dense (Dense)                (None, 512)               3211776   \n",
            "_________________________________________________________________\n",
            "dense_1 (Dense)              (None, 1)                 513       \n",
            "=================================================================\n",
            "Total params: 3,453,121\n",
            "Trainable params: 3,453,121\n",
            "Non-trainable params: 0\n",
            "_________________________________________________________________\n"
          ]
        }
      ]
    },
    {
      "cell_type": "code",
      "metadata": {
        "id": "A1eWo5UgX6qg"
      },
      "source": [
        "# Optimizer: Measure how good our model predicted output when compared with true output\n",
        "# Helps change attributes such as weights to reduce losses\n",
        "# Loss function is binary_crossentropy since we are doing binary classiication\n",
        "\n",
        "# Adjust the learning rate of Adam optimizer\n",
        "opt = tf.keras.optimizers.RMSprop(learning_rate=1e-4)\n",
        "\n",
        "model.compile(optimizer=opt ,loss='binary_crossentropy',metrics=['accuracy'])"
      ],
      "execution_count": 15,
      "outputs": []
    },
    {
      "cell_type": "code",
      "metadata": {
        "colab": {
          "base_uri": "https://localhost:8080/"
        },
        "id": "yOB36fA8X8VO",
        "outputId": "33843f53-c73a-4697-bc8e-820ec6282f92"
      },
      "source": [
        "#steps_per_epoch = no. of train images/batch_size\n",
        "\n",
        "training = model.fit(train_dataset, steps_per_epoch = 100, epochs = 100, validation_data = val_dataset, validation_steps= 25)"
      ],
      "execution_count": 16,
      "outputs": [
        {
          "output_type": "stream",
          "name": "stdout",
          "text": [
            "Epoch 1/100\n",
            "100/100 [==============================] - 1049s 10s/step - loss: 0.6925 - accuracy: 0.5163 - val_loss: 0.6815 - val_accuracy: 0.5638\n",
            "Epoch 2/100\n",
            "100/100 [==============================] - 161s 2s/step - loss: 0.6808 - accuracy: 0.5531 - val_loss: 0.6725 - val_accuracy: 0.5913\n",
            "Epoch 3/100\n",
            "100/100 [==============================] - 162s 2s/step - loss: 0.6678 - accuracy: 0.5838 - val_loss: 0.6665 - val_accuracy: 0.5975\n",
            "Epoch 4/100\n",
            "100/100 [==============================] - 163s 2s/step - loss: 0.6504 - accuracy: 0.6225 - val_loss: 0.6293 - val_accuracy: 0.6513\n",
            "Epoch 5/100\n",
            "100/100 [==============================] - 166s 2s/step - loss: 0.6492 - accuracy: 0.6222 - val_loss: 0.6099 - val_accuracy: 0.6700\n",
            "Epoch 6/100\n",
            "100/100 [==============================] - 164s 2s/step - loss: 0.6286 - accuracy: 0.6397 - val_loss: 0.5876 - val_accuracy: 0.7050\n",
            "Epoch 7/100\n",
            "100/100 [==============================] - 162s 2s/step - loss: 0.6250 - accuracy: 0.6513 - val_loss: 0.5856 - val_accuracy: 0.6988\n",
            "Epoch 8/100\n",
            "100/100 [==============================] - 164s 2s/step - loss: 0.6122 - accuracy: 0.6587 - val_loss: 0.5607 - val_accuracy: 0.7237\n",
            "Epoch 9/100\n",
            "100/100 [==============================] - 164s 2s/step - loss: 0.6023 - accuracy: 0.6762 - val_loss: 0.5558 - val_accuracy: 0.7100\n",
            "Epoch 10/100\n",
            "100/100 [==============================] - 165s 2s/step - loss: 0.5937 - accuracy: 0.6731 - val_loss: 0.5899 - val_accuracy: 0.7063\n",
            "Epoch 11/100\n",
            "100/100 [==============================] - 165s 2s/step - loss: 0.5946 - accuracy: 0.6787 - val_loss: 0.5712 - val_accuracy: 0.7088\n",
            "Epoch 12/100\n",
            "100/100 [==============================] - 165s 2s/step - loss: 0.5800 - accuracy: 0.6984 - val_loss: 0.5493 - val_accuracy: 0.7013\n",
            "Epoch 13/100\n",
            "100/100 [==============================] - 164s 2s/step - loss: 0.5759 - accuracy: 0.6900 - val_loss: 0.5822 - val_accuracy: 0.7038\n",
            "Epoch 14/100\n",
            "100/100 [==============================] - 165s 2s/step - loss: 0.5795 - accuracy: 0.6866 - val_loss: 0.5412 - val_accuracy: 0.7225\n",
            "Epoch 15/100\n",
            "100/100 [==============================] - 164s 2s/step - loss: 0.5589 - accuracy: 0.7066 - val_loss: 0.5196 - val_accuracy: 0.7350\n",
            "Epoch 16/100\n",
            "100/100 [==============================] - 164s 2s/step - loss: 0.5691 - accuracy: 0.7097 - val_loss: 0.5233 - val_accuracy: 0.7412\n",
            "Epoch 17/100\n",
            "100/100 [==============================] - 164s 2s/step - loss: 0.5724 - accuracy: 0.6981 - val_loss: 0.5068 - val_accuracy: 0.7563\n",
            "Epoch 18/100\n",
            "100/100 [==============================] - 164s 2s/step - loss: 0.5552 - accuracy: 0.7097 - val_loss: 0.5082 - val_accuracy: 0.7487\n",
            "Epoch 19/100\n",
            "100/100 [==============================] - 164s 2s/step - loss: 0.5449 - accuracy: 0.7138 - val_loss: 0.5239 - val_accuracy: 0.7387\n",
            "Epoch 20/100\n",
            "100/100 [==============================] - 164s 2s/step - loss: 0.5532 - accuracy: 0.7222 - val_loss: 0.5862 - val_accuracy: 0.6913\n",
            "Epoch 21/100\n",
            "100/100 [==============================] - 165s 2s/step - loss: 0.5551 - accuracy: 0.7025 - val_loss: 0.5296 - val_accuracy: 0.7513\n",
            "Epoch 22/100\n",
            "100/100 [==============================] - 165s 2s/step - loss: 0.5406 - accuracy: 0.7241 - val_loss: 0.4943 - val_accuracy: 0.7525\n",
            "Epoch 23/100\n",
            "100/100 [==============================] - 164s 2s/step - loss: 0.5303 - accuracy: 0.7291 - val_loss: 0.4828 - val_accuracy: 0.7650\n",
            "Epoch 24/100\n",
            "100/100 [==============================] - 164s 2s/step - loss: 0.5460 - accuracy: 0.7156 - val_loss: 0.4837 - val_accuracy: 0.7700\n",
            "Epoch 25/100\n",
            "100/100 [==============================] - 166s 2s/step - loss: 0.5304 - accuracy: 0.7353 - val_loss: 0.5814 - val_accuracy: 0.6950\n",
            "Epoch 26/100\n",
            "100/100 [==============================] - 165s 2s/step - loss: 0.5214 - accuracy: 0.7344 - val_loss: 0.4937 - val_accuracy: 0.7525\n",
            "Epoch 27/100\n",
            "100/100 [==============================] - 164s 2s/step - loss: 0.5147 - accuracy: 0.7412 - val_loss: 0.4994 - val_accuracy: 0.7513\n",
            "Epoch 28/100\n",
            "100/100 [==============================] - 163s 2s/step - loss: 0.5131 - accuracy: 0.7494 - val_loss: 0.5022 - val_accuracy: 0.7500\n",
            "Epoch 29/100\n",
            "100/100 [==============================] - 165s 2s/step - loss: 0.5182 - accuracy: 0.7434 - val_loss: 0.4703 - val_accuracy: 0.7763\n",
            "Epoch 30/100\n",
            "100/100 [==============================] - 164s 2s/step - loss: 0.5163 - accuracy: 0.7459 - val_loss: 0.4792 - val_accuracy: 0.7675\n",
            "Epoch 31/100\n",
            "100/100 [==============================] - 164s 2s/step - loss: 0.5150 - accuracy: 0.7403 - val_loss: 0.4501 - val_accuracy: 0.7987\n",
            "Epoch 32/100\n",
            "100/100 [==============================] - 165s 2s/step - loss: 0.5036 - accuracy: 0.7497 - val_loss: 0.5385 - val_accuracy: 0.7387\n",
            "Epoch 33/100\n",
            "100/100 [==============================] - 164s 2s/step - loss: 0.5003 - accuracy: 0.7519 - val_loss: 0.4991 - val_accuracy: 0.7513\n",
            "Epoch 34/100\n",
            "100/100 [==============================] - 164s 2s/step - loss: 0.5049 - accuracy: 0.7497 - val_loss: 0.4565 - val_accuracy: 0.7675\n",
            "Epoch 35/100\n",
            "100/100 [==============================] - 164s 2s/step - loss: 0.4936 - accuracy: 0.7550 - val_loss: 0.4572 - val_accuracy: 0.7912\n",
            "Epoch 36/100\n",
            "100/100 [==============================] - 164s 2s/step - loss: 0.5030 - accuracy: 0.7509 - val_loss: 0.4942 - val_accuracy: 0.7525\n",
            "Epoch 37/100\n",
            "100/100 [==============================] - 164s 2s/step - loss: 0.4961 - accuracy: 0.7547 - val_loss: 0.4575 - val_accuracy: 0.7937\n",
            "Epoch 38/100\n",
            "100/100 [==============================] - 165s 2s/step - loss: 0.4889 - accuracy: 0.7628 - val_loss: 0.4446 - val_accuracy: 0.7825\n",
            "Epoch 39/100\n",
            "100/100 [==============================] - 165s 2s/step - loss: 0.4893 - accuracy: 0.7672 - val_loss: 0.4548 - val_accuracy: 0.7738\n",
            "Epoch 40/100\n",
            "100/100 [==============================] - 164s 2s/step - loss: 0.4894 - accuracy: 0.7675 - val_loss: 0.4490 - val_accuracy: 0.7875\n",
            "Epoch 41/100\n",
            "100/100 [==============================] - 164s 2s/step - loss: 0.4797 - accuracy: 0.7734 - val_loss: 0.5004 - val_accuracy: 0.7663\n",
            "Epoch 42/100\n",
            "100/100 [==============================] - 164s 2s/step - loss: 0.4842 - accuracy: 0.7656 - val_loss: 0.4462 - val_accuracy: 0.7925\n",
            "Epoch 43/100\n",
            "100/100 [==============================] - 166s 2s/step - loss: 0.4782 - accuracy: 0.7769 - val_loss: 0.4615 - val_accuracy: 0.7775\n",
            "Epoch 44/100\n",
            "100/100 [==============================] - 166s 2s/step - loss: 0.4719 - accuracy: 0.7759 - val_loss: 0.4252 - val_accuracy: 0.8087\n",
            "Epoch 45/100\n",
            "100/100 [==============================] - 164s 2s/step - loss: 0.4758 - accuracy: 0.7700 - val_loss: 0.4305 - val_accuracy: 0.8062\n",
            "Epoch 46/100\n",
            "100/100 [==============================] - 166s 2s/step - loss: 0.4759 - accuracy: 0.7638 - val_loss: 0.5379 - val_accuracy: 0.7450\n",
            "Epoch 47/100\n",
            "100/100 [==============================] - 167s 2s/step - loss: 0.4584 - accuracy: 0.7819 - val_loss: 0.4562 - val_accuracy: 0.7825\n",
            "Epoch 48/100\n",
            "100/100 [==============================] - 165s 2s/step - loss: 0.4610 - accuracy: 0.7872 - val_loss: 0.4151 - val_accuracy: 0.7987\n",
            "Epoch 49/100\n",
            "100/100 [==============================] - 166s 2s/step - loss: 0.4621 - accuracy: 0.7728 - val_loss: 0.4333 - val_accuracy: 0.7937\n",
            "Epoch 50/100\n",
            "100/100 [==============================] - 166s 2s/step - loss: 0.4671 - accuracy: 0.7703 - val_loss: 0.4255 - val_accuracy: 0.8037\n",
            "Epoch 51/100\n",
            "100/100 [==============================] - 164s 2s/step - loss: 0.4496 - accuracy: 0.7878 - val_loss: 0.4401 - val_accuracy: 0.7975\n",
            "Epoch 52/100\n",
            "100/100 [==============================] - 164s 2s/step - loss: 0.4525 - accuracy: 0.7853 - val_loss: 0.4263 - val_accuracy: 0.8012\n",
            "Epoch 53/100\n",
            "100/100 [==============================] - 165s 2s/step - loss: 0.4548 - accuracy: 0.7866 - val_loss: 0.4313 - val_accuracy: 0.8037\n",
            "Epoch 54/100\n",
            "100/100 [==============================] - 164s 2s/step - loss: 0.4534 - accuracy: 0.7866 - val_loss: 0.4767 - val_accuracy: 0.7900\n",
            "Epoch 55/100\n",
            "100/100 [==============================] - 164s 2s/step - loss: 0.4456 - accuracy: 0.7937 - val_loss: 0.4098 - val_accuracy: 0.8125\n",
            "Epoch 56/100\n",
            "100/100 [==============================] - 164s 2s/step - loss: 0.4396 - accuracy: 0.7981 - val_loss: 0.4189 - val_accuracy: 0.7987\n",
            "Epoch 57/100\n",
            "100/100 [==============================] - 164s 2s/step - loss: 0.4452 - accuracy: 0.7903 - val_loss: 0.4297 - val_accuracy: 0.7987\n",
            "Epoch 58/100\n",
            "100/100 [==============================] - 165s 2s/step - loss: 0.4373 - accuracy: 0.8037 - val_loss: 0.4545 - val_accuracy: 0.7788\n",
            "Epoch 59/100\n",
            "100/100 [==============================] - 164s 2s/step - loss: 0.4437 - accuracy: 0.7937 - val_loss: 0.4846 - val_accuracy: 0.7538\n",
            "Epoch 60/100\n",
            "100/100 [==============================] - 163s 2s/step - loss: 0.4231 - accuracy: 0.8138 - val_loss: 0.4365 - val_accuracy: 0.8050\n",
            "Epoch 61/100\n",
            "100/100 [==============================] - 163s 2s/step - loss: 0.4441 - accuracy: 0.7991 - val_loss: 0.5266 - val_accuracy: 0.7500\n",
            "Epoch 62/100\n",
            "100/100 [==============================] - 165s 2s/step - loss: 0.4276 - accuracy: 0.8134 - val_loss: 0.4669 - val_accuracy: 0.7962\n",
            "Epoch 63/100\n",
            "100/100 [==============================] - 164s 2s/step - loss: 0.4322 - accuracy: 0.8012 - val_loss: 0.4209 - val_accuracy: 0.8000\n",
            "Epoch 64/100\n",
            "100/100 [==============================] - 163s 2s/step - loss: 0.4358 - accuracy: 0.7916 - val_loss: 0.4191 - val_accuracy: 0.8150\n",
            "Epoch 65/100\n",
            "100/100 [==============================] - 164s 2s/step - loss: 0.4356 - accuracy: 0.7922 - val_loss: 0.4234 - val_accuracy: 0.8100\n",
            "Epoch 66/100\n",
            "100/100 [==============================] - 166s 2s/step - loss: 0.4209 - accuracy: 0.8025 - val_loss: 0.4080 - val_accuracy: 0.8138\n",
            "Epoch 67/100\n",
            "100/100 [==============================] - 163s 2s/step - loss: 0.4277 - accuracy: 0.8116 - val_loss: 0.4443 - val_accuracy: 0.8062\n",
            "Epoch 68/100\n",
            "100/100 [==============================] - 164s 2s/step - loss: 0.4158 - accuracy: 0.8134 - val_loss: 0.3814 - val_accuracy: 0.8325\n",
            "Epoch 69/100\n",
            "100/100 [==============================] - 164s 2s/step - loss: 0.4212 - accuracy: 0.8053 - val_loss: 0.4082 - val_accuracy: 0.8150\n",
            "Epoch 70/100\n",
            "100/100 [==============================] - 163s 2s/step - loss: 0.4160 - accuracy: 0.8131 - val_loss: 0.4408 - val_accuracy: 0.8000\n",
            "Epoch 71/100\n",
            "100/100 [==============================] - 164s 2s/step - loss: 0.4186 - accuracy: 0.8059 - val_loss: 0.4038 - val_accuracy: 0.8263\n",
            "Epoch 72/100\n",
            "100/100 [==============================] - 164s 2s/step - loss: 0.4169 - accuracy: 0.8078 - val_loss: 0.4359 - val_accuracy: 0.8037\n",
            "Epoch 73/100\n",
            "100/100 [==============================] - 164s 2s/step - loss: 0.4233 - accuracy: 0.8041 - val_loss: 0.4479 - val_accuracy: 0.7937\n",
            "Epoch 74/100\n",
            "100/100 [==============================] - 165s 2s/step - loss: 0.4094 - accuracy: 0.8147 - val_loss: 0.4054 - val_accuracy: 0.8150\n",
            "Epoch 75/100\n",
            "100/100 [==============================] - 165s 2s/step - loss: 0.4052 - accuracy: 0.8097 - val_loss: 0.4688 - val_accuracy: 0.7675\n",
            "Epoch 76/100\n",
            "100/100 [==============================] - 165s 2s/step - loss: 0.3921 - accuracy: 0.8197 - val_loss: 0.4763 - val_accuracy: 0.7800\n",
            "Epoch 77/100\n",
            "100/100 [==============================] - 166s 2s/step - loss: 0.3980 - accuracy: 0.8203 - val_loss: 0.4111 - val_accuracy: 0.8112\n",
            "Epoch 78/100\n",
            "100/100 [==============================] - 164s 2s/step - loss: 0.4011 - accuracy: 0.8109 - val_loss: 0.4019 - val_accuracy: 0.8263\n",
            "Epoch 79/100\n",
            "100/100 [==============================] - 165s 2s/step - loss: 0.3931 - accuracy: 0.8200 - val_loss: 0.3992 - val_accuracy: 0.8300\n",
            "Epoch 80/100\n",
            "100/100 [==============================] - 165s 2s/step - loss: 0.3918 - accuracy: 0.8191 - val_loss: 0.4237 - val_accuracy: 0.8213\n",
            "Epoch 81/100\n",
            "100/100 [==============================] - 165s 2s/step - loss: 0.3919 - accuracy: 0.8213 - val_loss: 0.3927 - val_accuracy: 0.8288\n",
            "Epoch 82/100\n",
            "100/100 [==============================] - 165s 2s/step - loss: 0.3839 - accuracy: 0.8213 - val_loss: 0.4054 - val_accuracy: 0.8175\n",
            "Epoch 83/100\n",
            "100/100 [==============================] - 165s 2s/step - loss: 0.3858 - accuracy: 0.8209 - val_loss: 0.4254 - val_accuracy: 0.8125\n",
            "Epoch 84/100\n",
            "100/100 [==============================] - 164s 2s/step - loss: 0.3957 - accuracy: 0.8259 - val_loss: 0.4244 - val_accuracy: 0.8112\n",
            "Epoch 85/100\n",
            "100/100 [==============================] - 164s 2s/step - loss: 0.3878 - accuracy: 0.8263 - val_loss: 0.3824 - val_accuracy: 0.8288\n",
            "Epoch 86/100\n",
            "100/100 [==============================] - 164s 2s/step - loss: 0.3844 - accuracy: 0.8300 - val_loss: 0.3925 - val_accuracy: 0.8250\n",
            "Epoch 87/100\n",
            "100/100 [==============================] - 165s 2s/step - loss: 0.3767 - accuracy: 0.8306 - val_loss: 0.4133 - val_accuracy: 0.8075\n",
            "Epoch 88/100\n",
            "100/100 [==============================] - 165s 2s/step - loss: 0.3836 - accuracy: 0.8206 - val_loss: 0.4443 - val_accuracy: 0.8037\n",
            "Epoch 89/100\n",
            "100/100 [==============================] - 165s 2s/step - loss: 0.3722 - accuracy: 0.8284 - val_loss: 0.3515 - val_accuracy: 0.8500\n",
            "Epoch 90/100\n",
            "100/100 [==============================] - 165s 2s/step - loss: 0.3737 - accuracy: 0.8228 - val_loss: 0.4632 - val_accuracy: 0.7987\n",
            "Epoch 91/100\n",
            "100/100 [==============================] - 166s 2s/step - loss: 0.3828 - accuracy: 0.8259 - val_loss: 0.3813 - val_accuracy: 0.8313\n",
            "Epoch 92/100\n",
            "100/100 [==============================] - 165s 2s/step - loss: 0.3739 - accuracy: 0.8366 - val_loss: 0.3672 - val_accuracy: 0.8413\n",
            "Epoch 93/100\n",
            "100/100 [==============================] - 166s 2s/step - loss: 0.3692 - accuracy: 0.8341 - val_loss: 0.4309 - val_accuracy: 0.8100\n",
            "Epoch 94/100\n",
            "100/100 [==============================] - 167s 2s/step - loss: 0.3630 - accuracy: 0.8378 - val_loss: 0.3749 - val_accuracy: 0.8300\n",
            "Epoch 95/100\n",
            "100/100 [==============================] - 165s 2s/step - loss: 0.3647 - accuracy: 0.8400 - val_loss: 0.3545 - val_accuracy: 0.8275\n",
            "Epoch 96/100\n",
            "100/100 [==============================] - 165s 2s/step - loss: 0.3603 - accuracy: 0.8384 - val_loss: 0.4463 - val_accuracy: 0.8238\n",
            "Epoch 97/100\n",
            "100/100 [==============================] - 165s 2s/step - loss: 0.3683 - accuracy: 0.8325 - val_loss: 0.3674 - val_accuracy: 0.8462\n",
            "Epoch 98/100\n",
            "100/100 [==============================] - 165s 2s/step - loss: 0.3686 - accuracy: 0.8294 - val_loss: 0.3964 - val_accuracy: 0.8325\n",
            "Epoch 99/100\n",
            "100/100 [==============================] - 164s 2s/step - loss: 0.3697 - accuracy: 0.8388 - val_loss: 0.4272 - val_accuracy: 0.8175\n",
            "Epoch 100/100\n",
            "100/100 [==============================] - 165s 2s/step - loss: 0.3753 - accuracy: 0.8278 - val_loss: 0.4257 - val_accuracy: 0.8125\n"
          ]
        }
      ]
    },
    {
      "cell_type": "code",
      "metadata": {
        "colab": {
          "base_uri": "https://localhost:8080/"
        },
        "id": "ne733b4QX9ez",
        "outputId": "93bb31d8-4e64-4850-d49c-61fd40c2eac8"
      },
      "source": [
        "val_loss, val_acc = model.evaluate(val_dataset)\n",
        "\n",
        "print(\"Tested Acc:\", val_acc)"
      ],
      "execution_count": 17,
      "outputs": [
        {
          "output_type": "stream",
          "name": "stdout",
          "text": [
            "25/25 [==============================] - 11s 440ms/step - loss: 0.4257 - accuracy: 0.8125\n",
            "Tested Acc: 0.8125\n"
          ]
        }
      ]
    },
    {
      "cell_type": "code",
      "metadata": {
        "colab": {
          "base_uri": "https://localhost:8080/",
          "height": 295
        },
        "id": "IFjliJzmX-_r",
        "outputId": "cfa1350a-7316-4125-db26-fcf6e1ccd2c3"
      },
      "source": [
        "plt.plot(training.history['accuracy'])\n",
        "plt.plot(training.history['val_accuracy'])\n",
        "plt.title('Model Accuracy')\n",
        "plt.ylabel('Accuracy')\n",
        "plt.xlabel('Epoch')\n",
        "plt.legend(['train', 'val'], loc='upper left')\n",
        "plt.show()"
      ],
      "execution_count": 18,
      "outputs": [
        {
          "output_type": "display_data",
          "data": {
            "image/png": "[encoded data removed]",
            "text/plain": [
              "<Figure size 432x288 with 1 Axes>"
            ]
          },
          "metadata": {
            "needs_background": "light"
          }
        }
      ]
    },
    {
      "cell_type": "code",
      "metadata": {
        "colab": {
          "base_uri": "https://localhost:8080/",
          "height": 295
        },
        "id": "D8p42X9aYAIM",
        "outputId": "e9a0ce29-4c10-454b-f570-663284629d54"
      },
      "source": [
        "plt.plot(training.history['loss'])\n",
        "plt.plot(training.history['val_loss'])\n",
        "plt.title('Model Loss')\n",
        "plt.ylabel('Loss')\n",
        "plt.xlabel('Epoch')\n",
        "plt.legend(['train', 'val'], loc='upper left')\n",
        "plt.show()"
      ],
      "execution_count": 19,
      "outputs": [
        {
          "output_type": "display_data",
          "data": {
            "image/png": "[encoded data removed]",
            "text/plain": [
              "<Figure size 432x288 with 1 Axes>"
            ]
          },
          "metadata": {
            "needs_background": "light"
          }
        }
      ]
    },
    {
      "cell_type": "code",
      "metadata": {
        "colab": {
          "base_uri": "https://localhost:8080/",
          "height": 49
        },
        "id": "CZqT4kvkYGzp",
        "outputId": "8e8fd205-9820-4d78-aa72-6e1800cf966d"
      },
      "source": [
        "submission = pd.DataFrame(columns=['id','label'])\n",
        "submission"
      ],
      "execution_count": 20,
      "outputs": [
        {
          "output_type": "execute_result",
          "data": {
            "text/html": [
              "<div>\n",
              "<style scoped>\n",
              "    .dataframe tbody tr th:only-of-type {\n",
              "        vertical-align: middle;\n",
              "    }\n",
              "\n",
              "    .dataframe tbody tr th {\n",
              "        vertical-align: top;\n",
              "    }\n",
              "\n",
              "    .dataframe thead th {\n",
              "        text-align: right;\n",
              "    }\n",
              "</style>\n",
              "<table border=\"1\" class=\"dataframe\">\n",
              "  <thead>\n",
              "    <tr style=\"text-align: right;\">\n",
              "      <th></th>\n",
              "      <th>id</th>\n",
              "      <th>label</th>\n",
              "    </tr>\n",
              "  </thead>\n",
              "  <tbody>\n",
              "  </tbody>\n",
              "</table>\n",
              "</div>"
            ],
            "text/plain": [
              "Empty DataFrame\n",
              "Columns: [id, label]\n",
              "Index: []"
            ]
          },
          "metadata": {},
          "execution_count": 20
        }
      ]
    },
    {
      "cell_type": "code",
      "metadata": {
        "colab": {
          "base_uri": "https://localhost:8080/"
        },
        "id": "LUNVRkVSYBRq",
        "outputId": "de87480f-009e-410b-ce08-028beddbc41b"
      },
      "source": [
        "test_label = []\n",
        "count = 0\n",
        "for filename in os.listdir(test_path):\n",
        "  first_word = filename.split('.')[0]\n",
        "  img = image.load_img(test_path + filename, target_size = (150,150)) # load and resize image as 150x150\n",
        "  Y = image.img_to_array(img) # convert image into a numpy array \n",
        "  X = np.expand_dims(Y,axis=0) # expand the dimension of that array\n",
        "  val = model.predict(X)\n",
        "  test_label.append(int(val))\n",
        "  submission = submission.append({'id': int(first_word),'label': int(val)}, ignore_index=True)\n",
        "  count += 1\n",
        "\n",
        "print(test_label)"
      ],
      "execution_count": 21,
      "outputs": [
        {
          "output_type": "stream",
          "name": "stdout",
          "text": [
            "[1, 1, 1, 1, 1, 0, 1, 1, 1, 1, 0, 1, 1, 1, 1, 1, 1, 1, 1, 1, 1, 1, 1, 1, 1, 1, 1, 1, 1, 1, 1, 1, 1, 1, 1, 1, 1, 1, 1, 1, 1, 1, 1, 1, 1, 1, 1, 1, 1, 1, 1, 1, 1, 1, 1, 1, 1, 1, 1, 1, 1, 1, 1, 1, 0, 1, 1, 1, 0, 1, 1, 1, 0, 1, 1, 1, 1, 1, 1, 1, 1, 1, 1, 1, 1, 1, 1, 1, 1, 1, 0, 1, 1, 1, 1, 1, 0, 1, 1, 1, 1, 1, 1, 1, 1, 1, 1, 1, 0, 1, 1, 1, 1, 0, 1, 1, 0, 1, 1, 1, 1, 1, 1, 1, 1, 1, 1, 0, 1, 1, 1, 1, 1, 1, 1, 1, 1, 1, 0, 0, 1, 1, 1, 0, 1, 1, 1, 1, 1, 1, 1, 0, 1, 1, 1, 1, 1, 1, 1, 1, 1, 1, 1, 1, 0, 1, 1, 1, 1, 1, 1, 1, 1, 0, 1, 1, 1, 1, 1, 1, 1, 1, 1, 1, 1, 1, 0, 1, 1, 1, 1, 1, 1, 1, 1, 1, 1, 1, 1, 0, 1, 1, 1, 1, 1, 1, 0, 1, 1, 1, 1, 1, 1, 0, 1, 1, 1, 1, 0, 1, 1, 1, 1, 1, 1, 1, 1, 1, 0, 1, 0, 1, 1, 1, 1, 1, 1, 1, 1, 0, 1, 1, 1, 1, 1, 1, 1, 1, 1, 1, 1, 1, 1, 1, 1, 1, 1, 1, 1, 1, 1, 1, 1, 1, 0, 1, 1, 1, 1, 1, 1, 1, 1, 1, 1, 1, 1, 1, 1, 1, 1, 1, 1, 0, 1, 1, 1, 1, 1, 1, 1, 1, 1, 1, 1, 1, 1, 1, 1, 1, 1, 1, 1, 1, 1, 0, 1, 1, 1, 1, 1, 1, 1, 0, 0, 1, 1, 0, 0, 1, 1, 1, 1, 1, 0, 1, 1, 1, 1, 1, 1, 1, 1, 1, 1, 1, 1, 1, 1, 1, 1, 1, 1, 1, 1, 1, 1, 1, 0, 1, 1, 1, 1, 1, 1, 1, 1, 1, 1, 1, 1, 1, 0, 0, 1, 1, 1, 1, 1, 1, 1, 1, 1, 1, 1, 1, 1, 1, 1, 1, 1, 1, 0, 1, 1, 1, 1, 1, 1, 1, 1, 1, 1, 1, 0, 1, 1, 1, 1, 1, 1, 1, 1, 1, 1, 1, 1, 1, 1, 1, 1, 1, 1, 1, 1, 1, 1, 0, 1, 1, 1, 1, 0, 1, 1, 1, 1, 1, 1, 1, 1, 1, 1, 1, 1, 1, 1, 1, 1, 1, 1, 1, 1, 1, 1, 1, 1, 1, 1, 1, 0, 1, 1, 0, 1, 1, 1, 1, 1, 1, 1, 1, 1, 1, 0, 1, 1, 1, 1, 1, 1, 1, 1, 1, 1, 1, 1, 1, 1, 1, 1, 1, 1, 1, 1, 1, 1, 1, 1, 1, 1, 1, 1, 1, 1, 0, 1, 1, 1, 1]\n"
          ]
        }
      ]
    },
    {
      "cell_type": "code",
      "metadata": {
        "colab": {
          "base_uri": "https://localhost:8080/"
        },
        "id": "3Kbmva-5YCf9",
        "outputId": "a0c84ba9-0e49-48e7-c603-40317c3f658e"
      },
      "source": [
        "print(count)"
      ],
      "execution_count": 22,
      "outputs": [
        {
          "output_type": "stream",
          "name": "stdout",
          "text": [
            "500\n"
          ]
        }
      ]
    },
    {
      "cell_type": "code",
      "metadata": {
        "colab": {
          "base_uri": "https://localhost:8080/",
          "height": 419
        },
        "id": "1I9CGErqUy3W",
        "outputId": "4df29aa8-70ab-4fbc-e28b-c05e01f326a6"
      },
      "source": [
        "submission"
      ],
      "execution_count": 23,
      "outputs": [
        {
          "output_type": "execute_result",
          "data": {
            "text/html": [
              "<div>\n",
              "<style scoped>\n",
              "    .dataframe tbody tr th:only-of-type {\n",
              "        vertical-align: middle;\n",
              "    }\n",
              "\n",
              "    .dataframe tbody tr th {\n",
              "        vertical-align: top;\n",
              "    }\n",
              "\n",
              "    .dataframe thead th {\n",
              "        text-align: right;\n",
              "    }\n",
              "</style>\n",
              "<table border=\"1\" class=\"dataframe\">\n",
              "  <thead>\n",
              "    <tr style=\"text-align: right;\">\n",
              "      <th></th>\n",
              "      <th>id</th>\n",
              "      <th>label</th>\n",
              "    </tr>\n",
              "  </thead>\n",
              "  <tbody>\n",
              "    <tr>\n",
              "      <th>0</th>\n",
              "      <td>348</td>\n",
              "      <td>1</td>\n",
              "    </tr>\n",
              "    <tr>\n",
              "      <th>1</th>\n",
              "      <td>189</td>\n",
              "      <td>1</td>\n",
              "    </tr>\n",
              "    <tr>\n",
              "      <th>2</th>\n",
              "      <td>77</td>\n",
              "      <td>1</td>\n",
              "    </tr>\n",
              "    <tr>\n",
              "      <th>3</th>\n",
              "      <td>88</td>\n",
              "      <td>1</td>\n",
              "    </tr>\n",
              "    <tr>\n",
              "      <th>4</th>\n",
              "      <td>360</td>\n",
              "      <td>1</td>\n",
              "    </tr>\n",
              "    <tr>\n",
              "      <th>...</th>\n",
              "      <td>...</td>\n",
              "      <td>...</td>\n",
              "    </tr>\n",
              "    <tr>\n",
              "      <th>495</th>\n",
              "      <td>91</td>\n",
              "      <td>0</td>\n",
              "    </tr>\n",
              "    <tr>\n",
              "      <th>496</th>\n",
              "      <td>190</td>\n",
              "      <td>1</td>\n",
              "    </tr>\n",
              "    <tr>\n",
              "      <th>497</th>\n",
              "      <td>46</td>\n",
              "      <td>1</td>\n",
              "    </tr>\n",
              "    <tr>\n",
              "      <th>498</th>\n",
              "      <td>52</td>\n",
              "      <td>1</td>\n",
              "    </tr>\n",
              "    <tr>\n",
              "      <th>499</th>\n",
              "      <td>184</td>\n",
              "      <td>1</td>\n",
              "    </tr>\n",
              "  </tbody>\n",
              "</table>\n",
              "<p>500 rows × 2 columns</p>\n",
              "</div>"
            ],
            "text/plain": [
              "      id label\n",
              "0    348     1\n",
              "1    189     1\n",
              "2     77     1\n",
              "3     88     1\n",
              "4    360     1\n",
              "..   ...   ...\n",
              "495   91     0\n",
              "496  190     1\n",
              "497   46     1\n",
              "498   52     1\n",
              "499  184     1\n",
              "\n",
              "[500 rows x 2 columns]"
            ]
          },
          "metadata": {},
          "execution_count": 23
        }
      ]
    },
    {
      "cell_type": "code",
      "metadata": {
        "colab": {
          "base_uri": "https://localhost:8080/",
          "height": 419
        },
        "id": "hNuujHL-YJLk",
        "outputId": "dfebb1cc-5ef4-46a8-d5d4-922f0fa85182"
      },
      "source": [
        "sorted_submission = submission.sort_values('id')\n",
        "sorted_submission"
      ],
      "execution_count": 24,
      "outputs": [
        {
          "output_type": "execute_result",
          "data": {
            "text/html": [
              "<div>\n",
              "<style scoped>\n",
              "    .dataframe tbody tr th:only-of-type {\n",
              "        vertical-align: middle;\n",
              "    }\n",
              "\n",
              "    .dataframe tbody tr th {\n",
              "        vertical-align: top;\n",
              "    }\n",
              "\n",
              "    .dataframe thead th {\n",
              "        text-align: right;\n",
              "    }\n",
              "</style>\n",
              "<table border=\"1\" class=\"dataframe\">\n",
              "  <thead>\n",
              "    <tr style=\"text-align: right;\">\n",
              "      <th></th>\n",
              "      <th>id</th>\n",
              "      <th>label</th>\n",
              "    </tr>\n",
              "  </thead>\n",
              "  <tbody>\n",
              "    <tr>\n",
              "      <th>466</th>\n",
              "      <td>1</td>\n",
              "      <td>1</td>\n",
              "    </tr>\n",
              "    <tr>\n",
              "      <th>431</th>\n",
              "      <td>2</td>\n",
              "      <td>1</td>\n",
              "    </tr>\n",
              "    <tr>\n",
              "      <th>459</th>\n",
              "      <td>3</td>\n",
              "      <td>1</td>\n",
              "    </tr>\n",
              "    <tr>\n",
              "      <th>345</th>\n",
              "      <td>4</td>\n",
              "      <td>1</td>\n",
              "    </tr>\n",
              "    <tr>\n",
              "      <th>376</th>\n",
              "      <td>5</td>\n",
              "      <td>1</td>\n",
              "    </tr>\n",
              "    <tr>\n",
              "      <th>...</th>\n",
              "      <td>...</td>\n",
              "      <td>...</td>\n",
              "    </tr>\n",
              "    <tr>\n",
              "      <th>315</th>\n",
              "      <td>496</td>\n",
              "      <td>1</td>\n",
              "    </tr>\n",
              "    <tr>\n",
              "      <th>337</th>\n",
              "      <td>497</td>\n",
              "      <td>1</td>\n",
              "    </tr>\n",
              "    <tr>\n",
              "      <th>164</th>\n",
              "      <td>498</td>\n",
              "      <td>0</td>\n",
              "    </tr>\n",
              "    <tr>\n",
              "      <th>151</th>\n",
              "      <td>499</td>\n",
              "      <td>0</td>\n",
              "    </tr>\n",
              "    <tr>\n",
              "      <th>201</th>\n",
              "      <td>500</td>\n",
              "      <td>1</td>\n",
              "    </tr>\n",
              "  </tbody>\n",
              "</table>\n",
              "<p>500 rows × 2 columns</p>\n",
              "</div>"
            ],
            "text/plain": [
              "      id label\n",
              "466    1     1\n",
              "431    2     1\n",
              "459    3     1\n",
              "345    4     1\n",
              "376    5     1\n",
              "..   ...   ...\n",
              "315  496     1\n",
              "337  497     1\n",
              "164  498     0\n",
              "151  499     0\n",
              "201  500     1\n",
              "\n",
              "[500 rows x 2 columns]"
            ]
          },
          "metadata": {},
          "execution_count": 24
        }
      ]
    },
    {
      "cell_type": "code",
      "metadata": {
        "id": "a0-hh3pbBcHk"
      },
      "source": [
        ""
      ],
      "execution_count": 24,
      "outputs": []
    }
  ]
}