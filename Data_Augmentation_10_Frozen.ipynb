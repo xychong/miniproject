{
  "nbformat": 4,
  "nbformat_minor": 0,
  "metadata": {
    "colab": {
      "name": "Data Augmentation 10 Frozen.ipynb",
      "provenance": [],
      "authorship_tag": "ABX9TyMFlScKo+bbIAsCGny9NmOv",
      "include_colab_link": true
    },
    "kernelspec": {
      "name": "python3",
      "display_name": "Python 3"
    },
    "language_info": {
      "name": "python"
    }
  },
  "cells": [
    {
      "cell_type": "markdown",
      "metadata": {
        "id": "view-in-github",
        "colab_type": "text"
      },
      "source": [
        "<a href=\"https://colab.research.google.com/github/xychong/miniproject/blob/main/Data_Augmentation_10_Frozen.ipynb\" target=\"_parent\"><img src=\"https://colab.research.google.com/assets/colab-badge.svg\" alt=\"Open In Colab\"/></a>"
      ]
    },
    {
      "cell_type": "code",
      "metadata": {
        "id": "bWovo1efFIBC"
      },
      "source": [
        "import tensorflow as tf\n",
        "import numpy as np\n",
        "from tensorflow import keras\n",
        "import os\n",
        "import cv2\n",
        "from tensorflow.keras.preprocessing.image import ImageDataGenerator\n",
        "from tensorflow.keras.preprocessing import image\n",
        "import matplotlib.pyplot as plt\n",
        "\n",
        "import pandas as pd\n",
        "import numpy as np"
      ],
      "execution_count": 1,
      "outputs": []
    },
    {
      "cell_type": "code",
      "metadata": {
        "colab": {
          "base_uri": "https://localhost:8080/"
        },
        "id": "4ZTddmRZFMta",
        "outputId": "6c8d43e7-3ca2-4e87-eebe-11b6a6135602"
      },
      "source": [
        "from google.colab import drive\n",
        "drive.mount('/content/drive')"
      ],
      "execution_count": 2,
      "outputs": [
        {
          "output_type": "stream",
          "name": "stdout",
          "text": [
            "Drive already mounted at /content/drive; to attempt to forcibly remount, call drive.mount(\"/content/drive\", force_remount=True).\n"
          ]
        }
      ]
    },
    {
      "cell_type": "code",
      "metadata": {
        "id": "TjfqZ1hZFP-y"
      },
      "source": [
        "train_path = \"/content/drive/MyDrive/Data/train\"\n",
        "train_path_cat = \"/content/drive/MyDrive/Data/train/cat\"\n",
        "train_path_dog = \"/content/drive/MyDrive/Data/train/dog\"\n",
        "\n",
        "val_path = \"/content/drive/MyDrive/Data/val\"\n",
        "val_path_cat = \"/content/drive/MyDrive/Data/val/cat\"\n",
        "val_path_dog = \"/content/drive/MyDrive/Data/val/dog\"\n",
        "\n",
        "test_path = \"/content/drive/MyDrive/Data/test/\""
      ],
      "execution_count": 3,
      "outputs": []
    },
    {
      "cell_type": "code",
      "metadata": {
        "id": "7p4dW_h0FQqI"
      },
      "source": [
        "train_datagen = ImageDataGenerator(rescale=1./255, rotation_range=40, width_shift_range=0.2, height_shift_range=0.2, shear_range=0.2, zoom_range=0.1, horizontal_flip=True, fill_mode='nearest')\n",
        "#train_datagen = ImageDataGenerator(rescale=1/255)\n",
        "val_datagen = ImageDataGenerator(rescale=1./255)\n",
        "test_datagen = ImageDataGenerator(rescale=1./255)"
      ],
      "execution_count": 4,
      "outputs": []
    },
    {
      "cell_type": "code",
      "metadata": {
        "colab": {
          "base_uri": "https://localhost:8080/"
        },
        "id": "WtFCh745FT_c",
        "outputId": "9cbd2b1d-bde1-41f1-d667-3953b26865a9"
      },
      "source": [
        "train_dataset = train_datagen.flow_from_directory(train_path,\n",
        "                                                  target_size=(150,150),\n",
        "                                                  batch_size = 32,\n",
        "                                                  class_mode = 'binary')\n",
        "\n",
        "val_dataset = val_datagen.flow_from_directory(val_path,\n",
        "                                              target_size=(150,150),\n",
        "                                              batch_size = 32,\n",
        "                                              class_mode = 'binary')"
      ],
      "execution_count": 5,
      "outputs": [
        {
          "output_type": "stream",
          "name": "stdout",
          "text": [
            "Found 3200 images belonging to 2 classes.\n",
            "Found 800 images belonging to 2 classes.\n"
          ]
        }
      ]
    },
    {
      "cell_type": "code",
      "metadata": {
        "colab": {
          "base_uri": "https://localhost:8080/"
        },
        "id": "U-mryvxIFU8R",
        "outputId": "5273ff6a-5791-48e7-9ee4-973ca5d99908"
      },
      "source": [
        "from tensorflow.keras.applications import VGG16\n",
        "vgg_base = VGG16(weights='imagenet',    # use weights for ImageNet\n",
        "                 include_top=False,     # drop the Dense layers!\n",
        "                 input_shape=(150, 150, 3))\n",
        "print(vgg_base.summary())"
      ],
      "execution_count": 6,
      "outputs": [
        {
          "output_type": "stream",
          "name": "stdout",
          "text": [
            "Model: \"vgg16\"\n",
            "_________________________________________________________________\n",
            "Layer (type)                 Output Shape              Param #   \n",
            "=================================================================\n",
            "input_1 (InputLayer)         [(None, 150, 150, 3)]     0         \n",
            "_________________________________________________________________\n",
            "block1_conv1 (Conv2D)        (None, 150, 150, 64)      1792      \n",
            "_________________________________________________________________\n",
            "block1_conv2 (Conv2D)        (None, 150, 150, 64)      36928     \n",
            "_________________________________________________________________\n",
            "block1_pool (MaxPooling2D)   (None, 75, 75, 64)        0         \n",
            "_________________________________________________________________\n",
            "block2_conv1 (Conv2D)        (None, 75, 75, 128)       73856     \n",
            "_________________________________________________________________\n",
            "block2_conv2 (Conv2D)        (None, 75, 75, 128)       147584    \n",
            "_________________________________________________________________\n",
            "block2_pool (MaxPooling2D)   (None, 37, 37, 128)       0         \n",
            "_________________________________________________________________\n",
            "block3_conv1 (Conv2D)        (None, 37, 37, 256)       295168    \n",
            "_________________________________________________________________\n",
            "block3_conv2 (Conv2D)        (None, 37, 37, 256)       590080    \n",
            "_________________________________________________________________\n",
            "block3_conv3 (Conv2D)        (None, 37, 37, 256)       590080    \n",
            "_________________________________________________________________\n",
            "block3_pool (MaxPooling2D)   (None, 18, 18, 256)       0         \n",
            "_________________________________________________________________\n",
            "block4_conv1 (Conv2D)        (None, 18, 18, 512)       1180160   \n",
            "_________________________________________________________________\n",
            "block4_conv2 (Conv2D)        (None, 18, 18, 512)       2359808   \n",
            "_________________________________________________________________\n",
            "block4_conv3 (Conv2D)        (None, 18, 18, 512)       2359808   \n",
            "_________________________________________________________________\n",
            "block4_pool (MaxPooling2D)   (None, 9, 9, 512)         0         \n",
            "_________________________________________________________________\n",
            "block5_conv1 (Conv2D)        (None, 9, 9, 512)         2359808   \n",
            "_________________________________________________________________\n",
            "block5_conv2 (Conv2D)        (None, 9, 9, 512)         2359808   \n",
            "_________________________________________________________________\n",
            "block5_conv3 (Conv2D)        (None, 9, 9, 512)         2359808   \n",
            "_________________________________________________________________\n",
            "block5_pool (MaxPooling2D)   (None, 4, 4, 512)         0         \n",
            "=================================================================\n",
            "Total params: 14,714,688\n",
            "Trainable params: 14,714,688\n",
            "Non-trainable params: 0\n",
            "_________________________________________________________________\n",
            "None\n"
          ]
        }
      ]
    },
    {
      "cell_type": "code",
      "metadata": {
        "colab": {
          "base_uri": "https://localhost:8080/"
        },
        "id": "mD2dIvRsFYW7",
        "outputId": "0ff7d1b0-1e98-4403-b225-db1b3b71db15"
      },
      "source": [
        "model = keras.Sequential([\n",
        "        # our vgg16_base model added as a layer\n",
        "        vgg_base,\n",
        "        # here is our custom prediction layer \n",
        "        keras.layers.Flatten(),\n",
        "        #keras.layers.Dropout(0.50),\n",
        "        keras.layers.Dense(1024, activation='relu'),\n",
        "        keras.layers.Dropout(0.20),        \n",
        "        keras.layers.Dense(512, activation='relu'),\n",
        "        keras.layers.Dropout(0.10),         \n",
        "        keras.layers.Dense(1, activation='sigmoid')    \n",
        "    ])\n",
        "\n",
        "# Freeze the base model\n",
        "vgg_base.trainable = False\n",
        "\n",
        "for layer in vgg_base.layers:\n",
        "  print(layer, layer.trainable)"
      ],
      "execution_count": 7,
      "outputs": [
        {
          "output_type": "stream",
          "name": "stdout",
          "text": [
            "<keras.engine.input_layer.InputLayer object at 0x7fda9b325190> False\n",
            "<keras.layers.convolutional.Conv2D object at 0x7fdaf434b290> False\n",
            "<keras.layers.convolutional.Conv2D object at 0x7fdaf434c050> False\n",
            "<keras.layers.pooling.MaxPooling2D object at 0x7fdaf434c110> False\n",
            "<keras.layers.convolutional.Conv2D object at 0x7fdaf426e7d0> False\n",
            "<keras.layers.convolutional.Conv2D object at 0x7fdaf426e4d0> False\n",
            "<keras.layers.pooling.MaxPooling2D object at 0x7fdaf41f4fd0> False\n",
            "<keras.layers.convolutional.Conv2D object at 0x7fdaf41fc510> False\n",
            "<keras.layers.convolutional.Conv2D object at 0x7fdaf41fcfd0> False\n",
            "<keras.layers.convolutional.Conv2D object at 0x7fdaf4341690> False\n",
            "<keras.layers.pooling.MaxPooling2D object at 0x7fdaf420b710> False\n",
            "<keras.layers.convolutional.Conv2D object at 0x7fdaf420ded0> False\n",
            "<keras.layers.convolutional.Conv2D object at 0x7fdaf420b2d0> False\n",
            "<keras.layers.convolutional.Conv2D object at 0x7fdaf421a6d0> False\n",
            "<keras.layers.pooling.MaxPooling2D object at 0x7fdaf4223790> False\n",
            "<keras.layers.convolutional.Conv2D object at 0x7fdaf421ed50> False\n",
            "<keras.layers.convolutional.Conv2D object at 0x7fdaf4213990> False\n",
            "<keras.layers.convolutional.Conv2D object at 0x7fda99acf050> False\n",
            "<keras.layers.pooling.MaxPooling2D object at 0x7fdaf41b6190> False\n"
          ]
        }
      ]
    },
    {
      "cell_type": "code",
      "metadata": {
        "id": "x8FKyODwFjVR"
      },
      "source": [
        "# Adjust the learning rate of Adam optimizer\n",
        "opt = tf.keras.optimizers.Adam(learning_rate=0.0001)\n",
        "\n",
        "model.compile(optimizer=opt ,loss='binary_crossentropy',metrics=['accuracy'])"
      ],
      "execution_count": 8,
      "outputs": []
    },
    {
      "cell_type": "code",
      "metadata": {
        "colab": {
          "base_uri": "https://localhost:8080/"
        },
        "id": "7cxz2SeOFlJr",
        "outputId": "e2955d6a-0254-4f4e-96f4-3761a7f277cb"
      },
      "source": [
        "train_steps = train_dataset.n // 32\n",
        "val_steps = val_dataset.n // 32\n",
        "\n",
        "print(train_steps)\n",
        "print(val_steps)"
      ],
      "execution_count": 9,
      "outputs": [
        {
          "output_type": "stream",
          "name": "stdout",
          "text": [
            "100\n",
            "25\n"
          ]
        }
      ]
    },
    {
      "cell_type": "code",
      "metadata": {
        "colab": {
          "base_uri": "https://localhost:8080/"
        },
        "id": "8xSOHqOIFnJt",
        "outputId": "a7b48342-1db4-414c-ef10-e93edbbc96f9"
      },
      "source": [
        "training = model.fit(train_dataset, steps_per_epoch=train_steps, epochs=10, validation_data=val_dataset, validation_steps=val_steps)"
      ],
      "execution_count": 10,
      "outputs": [
        {
          "output_type": "stream",
          "name": "stdout",
          "text": [
            "Epoch 1/10\n",
            "100/100 [==============================] - 893s 9s/step - loss: 0.4608 - accuracy: 0.7728 - val_loss: 0.3468 - val_accuracy: 0.8512\n",
            "Epoch 2/10\n",
            "100/100 [==============================] - 885s 9s/step - loss: 0.3838 - accuracy: 0.8178 - val_loss: 0.2898 - val_accuracy: 0.8900\n",
            "Epoch 3/10\n",
            "100/100 [==============================] - 892s 9s/step - loss: 0.3557 - accuracy: 0.8359 - val_loss: 0.2679 - val_accuracy: 0.8925\n",
            "Epoch 4/10\n",
            "100/100 [==============================] - 888s 9s/step - loss: 0.3511 - accuracy: 0.8425 - val_loss: 0.2694 - val_accuracy: 0.8963\n",
            "Epoch 5/10\n",
            "100/100 [==============================] - 916s 9s/step - loss: 0.3373 - accuracy: 0.8472 - val_loss: 0.2883 - val_accuracy: 0.8925\n",
            "Epoch 6/10\n",
            "100/100 [==============================] - 915s 9s/step - loss: 0.3090 - accuracy: 0.8669 - val_loss: 0.3354 - val_accuracy: 0.8575\n",
            "Epoch 7/10\n",
            "100/100 [==============================] - 925s 9s/step - loss: 0.3096 - accuracy: 0.8616 - val_loss: 0.2545 - val_accuracy: 0.8975\n",
            "Epoch 8/10\n",
            "100/100 [==============================] - 899s 9s/step - loss: 0.3014 - accuracy: 0.8631 - val_loss: 0.2810 - val_accuracy: 0.8950\n",
            "Epoch 9/10\n",
            "100/100 [==============================] - 922s 9s/step - loss: 0.3217 - accuracy: 0.8550 - val_loss: 0.2421 - val_accuracy: 0.9013\n",
            "Epoch 10/10\n",
            "100/100 [==============================] - 925s 9s/step - loss: 0.2885 - accuracy: 0.8800 - val_loss: 0.2956 - val_accuracy: 0.8825\n"
          ]
        }
      ]
    },
    {
      "cell_type": "code",
      "metadata": {
        "colab": {
          "base_uri": "https://localhost:8080/",
          "height": 295
        },
        "id": "Dp31E74XFp81",
        "outputId": "8c376eb7-9c88-4780-ffca-14ee06a877fd"
      },
      "source": [
        "plt.plot(training.history['accuracy'])\n",
        "plt.plot(training.history['val_accuracy'])\n",
        "plt.title('Model Accuracy')\n",
        "plt.ylabel('Accuracy')\n",
        "plt.xlabel('Epoch')\n",
        "plt.legend(['train', 'val'], loc='upper left')\n",
        "plt.show()"
      ],
      "execution_count": 11,
      "outputs": [
        {
          "output_type": "display_data",
          "data": {
            "image/png": "[encoded data removed]",
            "text/plain": [
              "<Figure size 432x288 with 1 Axes>"
            ]
          },
          "metadata": {
            "needs_background": "light"
          }
        }
      ]
    },
    {
      "cell_type": "code",
      "metadata": {
        "colab": {
          "base_uri": "https://localhost:8080/",
          "height": 295
        },
        "id": "vqASC8QzFxEt",
        "outputId": "3bdda697-f6d9-4d43-83e4-9e43c98ff297"
      },
      "source": [
        "plt.plot(training.history['loss'])\n",
        "plt.plot(training.history['val_loss'])\n",
        "plt.title('Model Loss')\n",
        "plt.ylabel('Loss')\n",
        "plt.xlabel('Epoch')\n",
        "plt.legend(['train', 'val'], loc='upper left')\n",
        "plt.show()"
      ],
      "execution_count": 12,
      "outputs": [
        {
          "output_type": "display_data",
          "data": {
            "image/png": "[encoded data removed]",
            "text/plain": [
              "<Figure size 432x288 with 1 Axes>"
            ]
          },
          "metadata": {
            "needs_background": "light"
          }
        }
      ]
    },
    {
      "cell_type": "code",
      "metadata": {
        "colab": {
          "base_uri": "https://localhost:8080/",
          "height": 49
        },
        "id": "xxZ5XGGbFyvr",
        "outputId": "90a372e9-2871-49ca-b072-5617b338494d"
      },
      "source": [
        "submission = pd.DataFrame(columns=['id','label'])\n",
        "submission"
      ],
      "execution_count": 13,
      "outputs": [
        {
          "output_type": "execute_result",
          "data": {
            "text/html": [
              "<div>\n",
              "<style scoped>\n",
              "    .dataframe tbody tr th:only-of-type {\n",
              "        vertical-align: middle;\n",
              "    }\n",
              "\n",
              "    .dataframe tbody tr th {\n",
              "        vertical-align: top;\n",
              "    }\n",
              "\n",
              "    .dataframe thead th {\n",
              "        text-align: right;\n",
              "    }\n",
              "</style>\n",
              "<table border=\"1\" class=\"dataframe\">\n",
              "  <thead>\n",
              "    <tr style=\"text-align: right;\">\n",
              "      <th></th>\n",
              "      <th>id</th>\n",
              "      <th>label</th>\n",
              "    </tr>\n",
              "  </thead>\n",
              "  <tbody>\n",
              "  </tbody>\n",
              "</table>\n",
              "</div>"
            ],
            "text/plain": [
              "Empty DataFrame\n",
              "Columns: [id, label]\n",
              "Index: []"
            ]
          },
          "metadata": {},
          "execution_count": 13
        }
      ]
    },
    {
      "cell_type": "code",
      "metadata": {
        "colab": {
          "base_uri": "https://localhost:8080/"
        },
        "id": "O8iElqDAF0Fy",
        "outputId": "ec81f71c-bb88-4d41-b808-247448d016c7"
      },
      "source": [
        "test_label = []\n",
        "count = 0\n",
        "for filename in os.listdir(test_path):\n",
        "  first_word = filename.split('.')[0]\n",
        "  img = image.load_img(test_path + filename, target_size = (150,150)) # load and resize image as 150x150\n",
        "  Y = image.img_to_array(img) # convert image into a numpy array \n",
        "  X = np.expand_dims(Y,axis=0) # expand the dimension of that array\n",
        "  val = model.predict(X)\n",
        "  test_label.append(int(val))\n",
        "  submission = submission.append({'id': int(first_word),'label': int(val)}, ignore_index=True)\n",
        "  count += 1\n",
        "\n",
        "print(test_label)"
      ],
      "execution_count": 14,
      "outputs": [
        {
          "output_type": "stream",
          "name": "stdout",
          "text": [
            "[0, 1, 0, 1, 0, 1, 0, 1, 1, 0, 0, 1, 1, 0, 1, 1, 1, 1, 1, 1, 1, 1, 1, 1, 0, 0, 1, 1, 1, 1, 0, 1, 1, 1, 0, 1, 1, 1, 0, 0, 1, 1, 0, 0, 1, 1, 1, 0, 1, 1, 1, 0, 1, 1, 1, 1, 1, 0, 0, 0, 1, 1, 0, 1, 0, 1, 1, 1, 1, 1, 1, 1, 1, 0, 1, 1, 1, 1, 0, 1, 1, 0, 1, 1, 1, 1, 1, 1, 1, 1, 0, 0, 0, 0, 0, 1, 1, 0, 0, 1, 1, 0, 1, 1, 1, 0, 1, 0, 0, 1, 0, 1, 0, 0, 1, 0, 0, 0, 1, 1, 1, 1, 1, 1, 0, 1, 1, 1, 1, 1, 1, 0, 1, 1, 1, 1, 0, 0, 1, 0, 0, 0, 1, 0, 1, 0, 1, 1, 1, 1, 1, 1, 1, 1, 0, 1, 1, 1, 0, 1, 0, 1, 1, 1, 0, 1, 1, 0, 1, 1, 1, 1, 1, 0, 1, 1, 1, 1, 1, 1, 1, 1, 1, 1, 1, 1, 0, 0, 1, 1, 1, 1, 1, 1, 1, 1, 1, 1, 1, 0, 1, 1, 1, 1, 1, 1, 0, 1, 0, 1, 0, 1, 0, 1, 1, 1, 0, 1, 0, 1, 1, 1, 1, 1, 1, 1, 1, 0, 0, 1, 1, 1, 1, 1, 1, 1, 1, 0, 0, 0, 1, 0, 1, 1, 1, 1, 1, 1, 1, 0, 1, 0, 1, 1, 1, 1, 1, 1, 0, 1, 0, 1, 1, 0, 1, 0, 1, 1, 1, 1, 1, 1, 1, 1, 1, 1, 1, 1, 1, 1, 0, 0, 0, 0, 0, 0, 0, 1, 1, 1, 1, 1, 1, 0, 0, 1, 0, 1, 1, 1, 1, 1, 0, 1, 1, 0, 1, 1, 0, 1, 0, 0, 1, 1, 0, 1, 1, 1, 0, 0, 1, 0, 1, 0, 0, 1, 0, 1, 1, 1, 0, 1, 1, 1, 1, 0, 1, 1, 1, 1, 1, 0, 1, 1, 1, 1, 1, 1, 0, 0, 1, 1, 1, 1, 1, 1, 0, 1, 1, 0, 1, 0, 1, 0, 1, 0, 1, 1, 1, 1, 1, 0, 1, 1, 1, 1, 1, 1, 0, 1, 0, 1, 1, 1, 1, 1, 1, 0, 1, 1, 1, 1, 1, 1, 0, 1, 1, 1, 1, 1, 1, 1, 1, 1, 1, 1, 0, 1, 1, 1, 1, 1, 1, 1, 1, 0, 0, 0, 0, 1, 1, 1, 0, 1, 0, 1, 1, 1, 1, 1, 1, 1, 1, 1, 1, 1, 1, 1, 1, 1, 1, 1, 1, 1, 1, 1, 1, 1, 0, 0, 0, 1, 1, 0, 0, 0, 1, 1, 1, 1, 1, 1, 0, 1, 0, 1, 1, 1, 1, 1, 1, 1, 1, 1, 1, 1, 1, 1, 1, 1, 1, 1, 1, 0, 1, 0, 1, 1, 1, 1, 1, 1, 1, 1, 1, 0, 1, 1, 1, 0]\n"
          ]
        }
      ]
    },
    {
      "cell_type": "code",
      "metadata": {
        "id": "UQArucgbF3gA"
      },
      "source": [
        "submission\n",
        "submission.to_csv('/content/drive/MyDrive/Data/submission10_aug_frozen.csv')  "
      ],
      "execution_count": 15,
      "outputs": []
    },
    {
      "cell_type": "code",
      "metadata": {
        "id": "9GuxtZNqF6ET"
      },
      "source": [
        "sorted_submission = submission.sort_values('id')\n",
        "sorted_submission\n",
        "sorted_submission.to_csv('/content/drive/MyDrive/Data/sorted_submission10_aug_frozen.csv')  "
      ],
      "execution_count": 16,
      "outputs": []
    },
    {
      "cell_type": "code",
      "metadata": {
        "colab": {
          "base_uri": "https://localhost:8080/",
          "height": 419
        },
        "id": "ZEGY851AF8bz",
        "outputId": "1e53a998-fe1b-454a-a237-9b592b3b0556"
      },
      "source": [
        "sorted_submission"
      ],
      "execution_count": 17,
      "outputs": [
        {
          "output_type": "execute_result",
          "data": {
            "text/html": [
              "<div>\n",
              "<style scoped>\n",
              "    .dataframe tbody tr th:only-of-type {\n",
              "        vertical-align: middle;\n",
              "    }\n",
              "\n",
              "    .dataframe tbody tr th {\n",
              "        vertical-align: top;\n",
              "    }\n",
              "\n",
              "    .dataframe thead th {\n",
              "        text-align: right;\n",
              "    }\n",
              "</style>\n",
              "<table border=\"1\" class=\"dataframe\">\n",
              "  <thead>\n",
              "    <tr style=\"text-align: right;\">\n",
              "      <th></th>\n",
              "      <th>id</th>\n",
              "      <th>label</th>\n",
              "    </tr>\n",
              "  </thead>\n",
              "  <tbody>\n",
              "    <tr>\n",
              "      <th>466</th>\n",
              "      <td>1</td>\n",
              "      <td>1</td>\n",
              "    </tr>\n",
              "    <tr>\n",
              "      <th>431</th>\n",
              "      <td>2</td>\n",
              "      <td>1</td>\n",
              "    </tr>\n",
              "    <tr>\n",
              "      <th>459</th>\n",
              "      <td>3</td>\n",
              "      <td>1</td>\n",
              "    </tr>\n",
              "    <tr>\n",
              "      <th>345</th>\n",
              "      <td>4</td>\n",
              "      <td>1</td>\n",
              "    </tr>\n",
              "    <tr>\n",
              "      <th>376</th>\n",
              "      <td>5</td>\n",
              "      <td>1</td>\n",
              "    </tr>\n",
              "    <tr>\n",
              "      <th>...</th>\n",
              "      <td>...</td>\n",
              "      <td>...</td>\n",
              "    </tr>\n",
              "    <tr>\n",
              "      <th>315</th>\n",
              "      <td>496</td>\n",
              "      <td>1</td>\n",
              "    </tr>\n",
              "    <tr>\n",
              "      <th>337</th>\n",
              "      <td>497</td>\n",
              "      <td>1</td>\n",
              "    </tr>\n",
              "    <tr>\n",
              "      <th>164</th>\n",
              "      <td>498</td>\n",
              "      <td>0</td>\n",
              "    </tr>\n",
              "    <tr>\n",
              "      <th>151</th>\n",
              "      <td>499</td>\n",
              "      <td>1</td>\n",
              "    </tr>\n",
              "    <tr>\n",
              "      <th>201</th>\n",
              "      <td>500</td>\n",
              "      <td>1</td>\n",
              "    </tr>\n",
              "  </tbody>\n",
              "</table>\n",
              "<p>500 rows × 2 columns</p>\n",
              "</div>"
            ],
            "text/plain": [
              "      id label\n",
              "466    1     1\n",
              "431    2     1\n",
              "459    3     1\n",
              "345    4     1\n",
              "376    5     1\n",
              "..   ...   ...\n",
              "315  496     1\n",
              "337  497     1\n",
              "164  498     0\n",
              "151  499     1\n",
              "201  500     1\n",
              "\n",
              "[500 rows x 2 columns]"
            ]
          },
          "metadata": {},
          "execution_count": 17
        }
      ]
    },
    {
      "cell_type": "code",
      "metadata": {
        "id": "lIwu2BdoJ-Lp"
      },
      "source": [
        ""
      ],
      "execution_count": 17,
      "outputs": []
    }
  ]
}