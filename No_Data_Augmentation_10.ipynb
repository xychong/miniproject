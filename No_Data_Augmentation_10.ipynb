{
  "nbformat": 4,
  "nbformat_minor": 0,
  "metadata": {
    "accelerator": "GPU",
    "colab": {
      "name": "No Data Augmentation 10.ipynb",
      "provenance": [],
      "authorship_tag": "ABX9TyN0XMULG5mUq5SZ4foUrHPG",
      "include_colab_link": true
    },
    "kernelspec": {
      "display_name": "Python 3",
      "name": "python3"
    },
    "language_info": {
      "name": "python"
    }
  },
  "cells": [
    {
      "cell_type": "markdown",
      "metadata": {
        "id": "view-in-github",
        "colab_type": "text"
      },
      "source": [
        "<a href=\"https://colab.research.google.com/github/xychong/miniproject/blob/main/No_Data_Augmentation_10.ipynb\" target=\"_parent\"><img src=\"https://colab.research.google.com/assets/colab-badge.svg\" alt=\"Open In Colab\"/></a>"
      ]
    },
    {
      "cell_type": "code",
      "metadata": {
        "id": "hzJVXPOz1WhR"
      },
      "source": [
        "import tensorflow as tf\n",
        "import numpy as np\n",
        "from tensorflow import keras\n",
        "import os\n",
        "import cv2\n",
        "from tensorflow.keras.preprocessing.image import ImageDataGenerator\n",
        "from tensorflow.keras.preprocessing import image\n",
        "import matplotlib.pyplot as plt\n",
        "\n",
        "import pandas as pd\n",
        "import numpy as np"
      ],
      "execution_count": 1,
      "outputs": []
    },
    {
      "cell_type": "code",
      "metadata": {
        "colab": {
          "base_uri": "https://localhost:8080/"
        },
        "id": "exsBcSdS1X7A",
        "outputId": "6ac4bb9a-eaeb-4d7a-e356-ecd94ea442ee"
      },
      "source": [
        "print(tf.__version__)"
      ],
      "execution_count": 2,
      "outputs": [
        {
          "output_type": "stream",
          "name": "stdout",
          "text": [
            "2.6.0\n"
          ]
        }
      ]
    },
    {
      "cell_type": "code",
      "metadata": {
        "colab": {
          "base_uri": "https://localhost:8080/"
        },
        "id": "VvMHNsWg1ZaP",
        "outputId": "39b60ab3-1778-410e-bee5-2e333f20ff2d"
      },
      "source": [
        "from google.colab import drive\n",
        "drive.mount('/content/drive')"
      ],
      "execution_count": 3,
      "outputs": [
        {
          "output_type": "stream",
          "name": "stdout",
          "text": [
            "Drive already mounted at /content/drive; to attempt to forcibly remount, call drive.mount(\"/content/drive\", force_remount=True).\n"
          ]
        }
      ]
    },
    {
      "cell_type": "code",
      "metadata": {
        "id": "luD_LEBI1bda"
      },
      "source": [
        "train_path = \"/content/drive/MyDrive/Data/train\"\n",
        "train_path_cat = \"/content/drive/MyDrive/Data/train/cat\"\n",
        "train_path_dog = \"/content/drive/MyDrive/Data/train/dog\"\n",
        "\n",
        "val_path = \"/content/drive/MyDrive/Data/val\"\n",
        "val_path_cat = \"/content/drive/MyDrive/Data/val/cat\"\n",
        "val_path_dog = \"/content/drive/MyDrive/Data/val/dog\"\n",
        "\n",
        "test_path = \"/content/drive/MyDrive/Data/test/\""
      ],
      "execution_count": 4,
      "outputs": []
    },
    {
      "cell_type": "code",
      "metadata": {
        "id": "RcBFk5Fz1bzQ"
      },
      "source": [
        "#train_datagen = ImageDataGenerator(rescale=1./255, rotation_range=40, width_shift_range=0.2, height_shift_range=0.2, shear_range=0.2, zoom_range=0.1, horizontal_flip=True, fill_mode='nearest')\n",
        "train_datagen = ImageDataGenerator(rescale=1/255)\n",
        "val_datagen = ImageDataGenerator(rescale=1./255)\n",
        "test_datagen = ImageDataGenerator(rescale=1./255)"
      ],
      "execution_count": 5,
      "outputs": []
    },
    {
      "cell_type": "code",
      "metadata": {
        "colab": {
          "base_uri": "https://localhost:8080/"
        },
        "id": "Ti9JU8rb1dsW",
        "outputId": "4dbb1edf-8b0e-43eb-8f16-e13379ccdd36"
      },
      "source": [
        "train_dataset = train_datagen.flow_from_directory(train_path,\n",
        "                                                  target_size=(150,150),\n",
        "                                                  batch_size = 32,\n",
        "                                                  class_mode = 'binary')\n",
        "\n",
        "val_dataset = val_datagen.flow_from_directory(val_path,\n",
        "                                              target_size=(150,150),\n",
        "                                              batch_size = 32,\n",
        "                                              class_mode = 'binary')"
      ],
      "execution_count": 6,
      "outputs": [
        {
          "output_type": "stream",
          "name": "stdout",
          "text": [
            "Found 3200 images belonging to 2 classes.\n",
            "Found 800 images belonging to 2 classes.\n"
          ]
        }
      ]
    },
    {
      "cell_type": "code",
      "metadata": {
        "colab": {
          "base_uri": "https://localhost:8080/"
        },
        "id": "09fKw95D1fo4",
        "outputId": "a0b13465-b674-4b47-f723-cbec0ef780a8"
      },
      "source": [
        "from tensorflow.keras.applications import VGG16\n",
        "vgg_base = VGG16(weights='imagenet',    # use weights for ImageNet\n",
        "                 include_top=False,     # drop the Dense layers!\n",
        "                 input_shape=(150, 150, 3))\n",
        "print(vgg_base.summary())"
      ],
      "execution_count": 7,
      "outputs": [
        {
          "output_type": "stream",
          "name": "stdout",
          "text": [
            "Model: \"vgg16\"\n",
            "_________________________________________________________________\n",
            "Layer (type)                 Output Shape              Param #   \n",
            "=================================================================\n",
            "input_1 (InputLayer)         [(None, 150, 150, 3)]     0         \n",
            "_________________________________________________________________\n",
            "block1_conv1 (Conv2D)        (None, 150, 150, 64)      1792      \n",
            "_________________________________________________________________\n",
            "block1_conv2 (Conv2D)        (None, 150, 150, 64)      36928     \n",
            "_________________________________________________________________\n",
            "block1_pool (MaxPooling2D)   (None, 75, 75, 64)        0         \n",
            "_________________________________________________________________\n",
            "block2_conv1 (Conv2D)        (None, 75, 75, 128)       73856     \n",
            "_________________________________________________________________\n",
            "block2_conv2 (Conv2D)        (None, 75, 75, 128)       147584    \n",
            "_________________________________________________________________\n",
            "block2_pool (MaxPooling2D)   (None, 37, 37, 128)       0         \n",
            "_________________________________________________________________\n",
            "block3_conv1 (Conv2D)        (None, 37, 37, 256)       295168    \n",
            "_________________________________________________________________\n",
            "block3_conv2 (Conv2D)        (None, 37, 37, 256)       590080    \n",
            "_________________________________________________________________\n",
            "block3_conv3 (Conv2D)        (None, 37, 37, 256)       590080    \n",
            "_________________________________________________________________\n",
            "block3_pool (MaxPooling2D)   (None, 18, 18, 256)       0         \n",
            "_________________________________________________________________\n",
            "block4_conv1 (Conv2D)        (None, 18, 18, 512)       1180160   \n",
            "_________________________________________________________________\n",
            "block4_conv2 (Conv2D)        (None, 18, 18, 512)       2359808   \n",
            "_________________________________________________________________\n",
            "block4_conv3 (Conv2D)        (None, 18, 18, 512)       2359808   \n",
            "_________________________________________________________________\n",
            "block4_pool (MaxPooling2D)   (None, 9, 9, 512)         0         \n",
            "_________________________________________________________________\n",
            "block5_conv1 (Conv2D)        (None, 9, 9, 512)         2359808   \n",
            "_________________________________________________________________\n",
            "block5_conv2 (Conv2D)        (None, 9, 9, 512)         2359808   \n",
            "_________________________________________________________________\n",
            "block5_conv3 (Conv2D)        (None, 9, 9, 512)         2359808   \n",
            "_________________________________________________________________\n",
            "block5_pool (MaxPooling2D)   (None, 4, 4, 512)         0         \n",
            "=================================================================\n",
            "Total params: 14,714,688\n",
            "Trainable params: 14,714,688\n",
            "Non-trainable params: 0\n",
            "_________________________________________________________________\n",
            "None\n"
          ]
        }
      ]
    },
    {
      "cell_type": "code",
      "metadata": {
        "id": "C_v4eDfr1ja_",
        "colab": {
          "base_uri": "https://localhost:8080/"
        },
        "outputId": "cefdb0a6-e316-4cae-9e77-2f43220d4b32"
      },
      "source": [
        "model = keras.Sequential([\n",
        "        # our vgg16_base model added as a layer\n",
        "        vgg_base,\n",
        "        # here is our custom prediction layer \n",
        "        keras.layers.Flatten(),\n",
        "        #keras.layers.Dropout(0.50),\n",
        "        keras.layers.Dense(1024, activation='relu'),\n",
        "        keras.layers.Dropout(0.20),        \n",
        "        keras.layers.Dense(512, activation='relu'),\n",
        "        keras.layers.Dropout(0.10),         \n",
        "        keras.layers.Dense(1, activation='sigmoid')    \n",
        "    ])\n",
        "\n",
        "# Unfreeze the base model\n",
        "vgg_base.trainable = True\n",
        "\n",
        "# Observe how many layers are in the base model\n",
        "# 19\n",
        "print(\"Number of layers in the base model: \", len(vgg_base.layers))\n",
        "\n",
        "# Fine-tune from this layer onwards\n",
        "fine_tune_at = 16\n",
        "\n",
        "# Freeze all layers before 'fine_tune_at' layer\n",
        "for layer in vgg_base.layers[:fine_tune_at]:\n",
        "  layer.trainable = False\n",
        "\n",
        "for layer in vgg_base.layers:\n",
        "  print(layer, layer.trainable)"
      ],
      "execution_count": 8,
      "outputs": [
        {
          "output_type": "stream",
          "name": "stdout",
          "text": [
            "Number of layers in the base model:  19\n",
            "<keras.engine.input_layer.InputLayer object at 0x7f4cf56fd350> False\n",
            "<keras.layers.convolutional.Conv2D object at 0x7f4d50154fd0> False\n",
            "<keras.layers.convolutional.Conv2D object at 0x7f4cf4ee4fd0> False\n",
            "<keras.layers.pooling.MaxPooling2D object at 0x7f4cf4690110> False\n",
            "<keras.layers.convolutional.Conv2D object at 0x7f4cf4689b10> False\n",
            "<keras.layers.convolutional.Conv2D object at 0x7f4cf430acd0> False\n",
            "<keras.layers.pooling.MaxPooling2D object at 0x7f4cf4314e90> False\n",
            "<keras.layers.convolutional.Conv2D object at 0x7f4cf431d110> False\n",
            "<keras.layers.convolutional.Conv2D object at 0x7f4cf431ac10> False\n",
            "<keras.layers.convolutional.Conv2D object at 0x7f4cf43246d0> False\n",
            "<keras.layers.pooling.MaxPooling2D object at 0x7f4cf432c6d0> False\n",
            "<keras.layers.convolutional.Conv2D object at 0x7f4cf4326a10> False\n",
            "<keras.layers.convolutional.Conv2D object at 0x7f4cf4314cd0> False\n",
            "<keras.layers.convolutional.Conv2D object at 0x7f4cf4339610> False\n",
            "<keras.layers.pooling.MaxPooling2D object at 0x7f4cf433ec10> False\n",
            "<keras.layers.convolutional.Conv2D object at 0x7f4cf4335e10> False\n",
            "<keras.layers.convolutional.Conv2D object at 0x7f4cf4344c10> True\n",
            "<keras.layers.convolutional.Conv2D object at 0x7f4cf42cf310> True\n",
            "<keras.layers.pooling.MaxPooling2D object at 0x7f4cf4346150> True\n"
          ]
        }
      ]
    },
    {
      "cell_type": "code",
      "metadata": {
        "id": "itKb9jGF1k2Y"
      },
      "source": [
        "# Adjust the learning rate of Adam optimizer\n",
        "opt = tf.keras.optimizers.Adam(learning_rate=0.0001)\n",
        "\n",
        "model.compile(optimizer=opt ,loss='binary_crossentropy',metrics=['accuracy'])"
      ],
      "execution_count": 9,
      "outputs": []
    },
    {
      "cell_type": "code",
      "metadata": {
        "colab": {
          "base_uri": "https://localhost:8080/"
        },
        "id": "oGSkyir_GiOV",
        "outputId": "17208e72-310f-4309-bb37-9e70d9f5bb65"
      },
      "source": [
        "model.summary()"
      ],
      "execution_count": 10,
      "outputs": [
        {
          "output_type": "stream",
          "name": "stdout",
          "text": [
            "Model: \"sequential\"\n",
            "_________________________________________________________________\n",
            "Layer (type)                 Output Shape              Param #   \n",
            "=================================================================\n",
            "vgg16 (Functional)           (None, 4, 4, 512)         14714688  \n",
            "_________________________________________________________________\n",
            "flatten (Flatten)            (None, 8192)              0         \n",
            "_________________________________________________________________\n",
            "dense (Dense)                (None, 1024)              8389632   \n",
            "_________________________________________________________________\n",
            "dropout (Dropout)            (None, 1024)              0         \n",
            "_________________________________________________________________\n",
            "dense_1 (Dense)              (None, 512)               524800    \n",
            "_________________________________________________________________\n",
            "dropout_1 (Dropout)          (None, 512)               0         \n",
            "_________________________________________________________________\n",
            "dense_2 (Dense)              (None, 1)                 513       \n",
            "=================================================================\n",
            "Total params: 23,629,633\n",
            "Trainable params: 13,634,561\n",
            "Non-trainable params: 9,995,072\n",
            "_________________________________________________________________\n"
          ]
        }
      ]
    },
    {
      "cell_type": "code",
      "metadata": {
        "colab": {
          "base_uri": "https://localhost:8080/"
        },
        "id": "i82x47qc1qrn",
        "outputId": "ec31312d-d9d5-45bc-87b1-e285fc41f3e6"
      },
      "source": [
        "train_steps = train_dataset.n // 32\n",
        "val_steps = val_dataset.n // 32\n",
        "\n",
        "print(train_steps)\n",
        "print(val_steps)"
      ],
      "execution_count": 11,
      "outputs": [
        {
          "output_type": "stream",
          "name": "stdout",
          "text": [
            "100\n",
            "25\n"
          ]
        }
      ]
    },
    {
      "cell_type": "code",
      "metadata": {
        "colab": {
          "base_uri": "https://localhost:8080/"
        },
        "id": "5XkYsVjm1s2w",
        "outputId": "3f6a6950-c800-47c2-8422-ba680739d96f"
      },
      "source": [
        "training = model.fit(train_dataset, steps_per_epoch=train_steps, epochs=10, validation_data=val_dataset, validation_steps=val_steps)"
      ],
      "execution_count": 12,
      "outputs": [
        {
          "output_type": "stream",
          "name": "stdout",
          "text": [
            "Epoch 1/10\n",
            "100/100 [==============================] - 31s 243ms/step - loss: 0.2939 - accuracy: 0.8722 - val_loss: 0.1946 - val_accuracy: 0.9162\n",
            "Epoch 2/10\n",
            "100/100 [==============================] - 24s 241ms/step - loss: 0.1338 - accuracy: 0.9494 - val_loss: 0.1659 - val_accuracy: 0.9250\n",
            "Epoch 3/10\n",
            "100/100 [==============================] - 24s 244ms/step - loss: 0.0651 - accuracy: 0.9781 - val_loss: 0.2684 - val_accuracy: 0.9062\n",
            "Epoch 4/10\n",
            "100/100 [==============================] - 24s 242ms/step - loss: 0.0362 - accuracy: 0.9875 - val_loss: 0.3574 - val_accuracy: 0.9075\n",
            "Epoch 5/10\n",
            "100/100 [==============================] - 24s 243ms/step - loss: 0.0129 - accuracy: 0.9962 - val_loss: 0.2783 - val_accuracy: 0.9225\n",
            "Epoch 6/10\n",
            "100/100 [==============================] - 24s 242ms/step - loss: 0.0276 - accuracy: 0.9903 - val_loss: 0.2651 - val_accuracy: 0.9275\n",
            "Epoch 7/10\n",
            "100/100 [==============================] - 24s 240ms/step - loss: 0.0132 - accuracy: 0.9969 - val_loss: 0.2870 - val_accuracy: 0.9250\n",
            "Epoch 8/10\n",
            "100/100 [==============================] - 24s 238ms/step - loss: 0.0031 - accuracy: 0.9994 - val_loss: 0.3902 - val_accuracy: 0.9137\n",
            "Epoch 9/10\n",
            "100/100 [==============================] - 24s 240ms/step - loss: 0.0061 - accuracy: 0.9981 - val_loss: 0.3709 - val_accuracy: 0.9150\n",
            "Epoch 10/10\n",
            "100/100 [==============================] - 24s 241ms/step - loss: 0.0063 - accuracy: 0.9984 - val_loss: 0.4488 - val_accuracy: 0.9125\n"
          ]
        }
      ]
    },
    {
      "cell_type": "code",
      "metadata": {
        "id": "Ng-BrhJZ1vJ8",
        "colab": {
          "base_uri": "https://localhost:8080/",
          "height": 295
        },
        "outputId": "03ae19bb-e2bb-4596-beec-ee75c2d24983"
      },
      "source": [
        "plt.plot(training.history['accuracy'])\n",
        "plt.plot(training.history['val_accuracy'])\n",
        "plt.title('Model Accuracy')\n",
        "plt.ylabel('Accuracy')\n",
        "plt.xlabel('Epoch')\n",
        "plt.legend(['train', 'val'], loc='upper left')\n",
        "plt.show()"
      ],
      "execution_count": 13,
      "outputs": [
        {
          "output_type": "display_data",
          "data": {
            "image/png": "[encoded data removed]",
            "text/plain": [
              "<Figure size 432x288 with 1 Axes>"
            ]
          },
          "metadata": {
            "needs_background": "light"
          }
        }
      ]
    },
    {
      "cell_type": "code",
      "metadata": {
        "id": "81dwrWDl1ytD",
        "colab": {
          "base_uri": "https://localhost:8080/",
          "height": 295
        },
        "outputId": "b496fb8c-85ca-436f-83f9-5fd9547bf9fa"
      },
      "source": [
        "plt.plot(training.history['loss'])\n",
        "plt.plot(training.history['val_loss'])\n",
        "plt.title('Model Loss')\n",
        "plt.ylabel('Loss')\n",
        "plt.xlabel('Epoch')\n",
        "plt.legend(['train', 'val'], loc='upper left')\n",
        "plt.show()"
      ],
      "execution_count": 14,
      "outputs": [
        {
          "output_type": "display_data",
          "data": {
            "image/png": "[encoded data removed]",
            "text/plain": [
              "<Figure size 432x288 with 1 Axes>"
            ]
          },
          "metadata": {
            "needs_background": "light"
          }
        }
      ]
    },
    {
      "cell_type": "code",
      "metadata": {
        "id": "fRmNcEY31z_o",
        "colab": {
          "base_uri": "https://localhost:8080/",
          "height": 49
        },
        "outputId": "5f4fecd0-32e0-4839-d0c7-4d82fe4d5b22"
      },
      "source": [
        "submission = pd.DataFrame(columns=['id','label'])\n",
        "submission"
      ],
      "execution_count": 15,
      "outputs": [
        {
          "output_type": "execute_result",
          "data": {
            "text/html": [
              "<div>\n",
              "<style scoped>\n",
              "    .dataframe tbody tr th:only-of-type {\n",
              "        vertical-align: middle;\n",
              "    }\n",
              "\n",
              "    .dataframe tbody tr th {\n",
              "        vertical-align: top;\n",
              "    }\n",
              "\n",
              "    .dataframe thead th {\n",
              "        text-align: right;\n",
              "    }\n",
              "</style>\n",
              "<table border=\"1\" class=\"dataframe\">\n",
              "  <thead>\n",
              "    <tr style=\"text-align: right;\">\n",
              "      <th></th>\n",
              "      <th>id</th>\n",
              "      <th>label</th>\n",
              "    </tr>\n",
              "  </thead>\n",
              "  <tbody>\n",
              "  </tbody>\n",
              "</table>\n",
              "</div>"
            ],
            "text/plain": [
              "Empty DataFrame\n",
              "Columns: [id, label]\n",
              "Index: []"
            ]
          },
          "metadata": {},
          "execution_count": 15
        }
      ]
    },
    {
      "cell_type": "code",
      "metadata": {
        "id": "Mf0kwC0011KI",
        "colab": {
          "base_uri": "https://localhost:8080/"
        },
        "outputId": "17fd0d82-3ed6-4c93-9c62-372fa20a4aa2"
      },
      "source": [
        "test_label = []\n",
        "count = 0\n",
        "for filename in os.listdir(test_path):\n",
        "  first_word = filename.split('.')[0]\n",
        "  img = image.load_img(test_path + filename, target_size = (150,150)) # load and resize image as 150x150\n",
        "  Y = image.img_to_array(img) # convert image into a numpy array \n",
        "  X = np.expand_dims(Y,axis=0) # expand the dimension of that array\n",
        "  val = model.predict(X)\n",
        "  test_label.append(int(val))\n",
        "  submission = submission.append({'id': int(first_word),'label': int(val)}, ignore_index=True)\n",
        "  count += 1\n",
        "\n",
        "print(test_label)"
      ],
      "execution_count": 16,
      "outputs": [
        {
          "output_type": "stream",
          "name": "stdout",
          "text": [
            "[0, 1, 0, 1, 0, 1, 0, 1, 1, 0, 0, 1, 1, 0, 1, 1, 0, 1, 1, 0, 1, 1, 1, 1, 0, 0, 1, 1, 1, 0, 0, 1, 1, 1, 0, 1, 1, 1, 0, 0, 1, 1, 0, 0, 1, 1, 1, 0, 1, 1, 1, 0, 1, 0, 1, 1, 1, 0, 0, 0, 1, 1, 0, 1, 0, 1, 1, 1, 1, 1, 0, 1, 1, 1, 1, 0, 1, 1, 0, 1, 1, 0, 0, 1, 1, 1, 1, 1, 1, 1, 0, 0, 0, 1, 0, 1, 0, 0, 0, 1, 1, 0, 1, 1, 1, 0, 1, 0, 0, 1, 1, 1, 0, 0, 1, 0, 0, 1, 1, 1, 1, 1, 1, 1, 0, 1, 0, 1, 1, 1, 1, 0, 1, 1, 1, 1, 0, 0, 1, 0, 1, 0, 1, 0, 1, 0, 1, 1, 1, 1, 0, 1, 1, 1, 0, 1, 1, 1, 1, 1, 0, 1, 1, 1, 0, 1, 0, 0, 1, 1, 0, 1, 1, 0, 1, 1, 1, 1, 1, 1, 1, 1, 1, 1, 1, 1, 0, 0, 1, 0, 1, 1, 1, 1, 1, 1, 1, 1, 1, 0, 1, 1, 1, 0, 1, 1, 0, 1, 0, 1, 0, 1, 0, 0, 1, 1, 0, 1, 0, 1, 0, 1, 1, 1, 1, 1, 1, 0, 0, 1, 1, 1, 1, 1, 1, 1, 1, 0, 0, 0, 1, 0, 1, 1, 1, 1, 1, 1, 1, 0, 1, 0, 1, 1, 1, 1, 1, 1, 0, 1, 0, 1, 1, 0, 1, 0, 1, 1, 1, 1, 1, 1, 1, 1, 0, 1, 1, 1, 1, 1, 0, 0, 0, 0, 0, 0, 0, 1, 1, 1, 0, 1, 1, 0, 0, 1, 0, 1, 1, 1, 1, 1, 0, 1, 1, 0, 1, 1, 0, 1, 0, 0, 1, 1, 1, 1, 1, 1, 0, 1, 1, 0, 1, 0, 0, 1, 0, 1, 1, 1, 0, 1, 1, 1, 1, 0, 1, 1, 1, 1, 1, 0, 1, 0, 1, 1, 1, 1, 0, 0, 1, 1, 1, 1, 1, 1, 0, 1, 1, 0, 1, 0, 1, 0, 1, 0, 1, 1, 1, 1, 0, 0, 1, 1, 1, 0, 1, 1, 0, 1, 0, 1, 0, 1, 0, 1, 1, 0, 1, 1, 1, 1, 0, 1, 0, 1, 1, 0, 1, 1, 1, 1, 1, 0, 1, 1, 0, 0, 1, 1, 1, 0, 1, 1, 1, 0, 0, 0, 0, 1, 1, 1, 0, 1, 1, 1, 1, 0, 1, 1, 1, 1, 1, 1, 0, 1, 1, 1, 1, 1, 1, 1, 1, 1, 1, 0, 1, 1, 0, 0, 0, 1, 1, 0, 0, 0, 0, 1, 1, 1, 1, 1, 1, 1, 0, 0, 0, 1, 1, 1, 1, 1, 1, 1, 1, 1, 1, 1, 1, 1, 1, 1, 1, 0, 0, 0, 1, 1, 1, 1, 1, 1, 1, 1, 1, 0, 1, 1, 1, 0]\n"
          ]
        }
      ]
    },
    {
      "cell_type": "code",
      "metadata": {
        "id": "HlnZnXca13Rc"
      },
      "source": [
        "submission\n",
        "submission.to_csv('/content/drive/MyDrive/Data/submission10_noaug.csv')  "
      ],
      "execution_count": 17,
      "outputs": []
    },
    {
      "cell_type": "code",
      "metadata": {
        "id": "Zagz3p3x14l6"
      },
      "source": [
        "sorted_submission = submission.sort_values('id')\n",
        "sorted_submission\n",
        "sorted_submission.to_csv('/content/drive/MyDrive/Data/sorted_submission10_noaug.csv')  "
      ],
      "execution_count": 18,
      "outputs": []
    },
    {
      "cell_type": "code",
      "metadata": {
        "id": "ujWVMs6-153S",
        "colab": {
          "base_uri": "https://localhost:8080/",
          "height": 419
        },
        "outputId": "7d59afa6-849c-4e10-d683-aa708739bdb8"
      },
      "source": [
        "sorted_submission"
      ],
      "execution_count": 19,
      "outputs": [
        {
          "output_type": "execute_result",
          "data": {
            "text/html": [
              "<div>\n",
              "<style scoped>\n",
              "    .dataframe tbody tr th:only-of-type {\n",
              "        vertical-align: middle;\n",
              "    }\n",
              "\n",
              "    .dataframe tbody tr th {\n",
              "        vertical-align: top;\n",
              "    }\n",
              "\n",
              "    .dataframe thead th {\n",
              "        text-align: right;\n",
              "    }\n",
              "</style>\n",
              "<table border=\"1\" class=\"dataframe\">\n",
              "  <thead>\n",
              "    <tr style=\"text-align: right;\">\n",
              "      <th></th>\n",
              "      <th>id</th>\n",
              "      <th>label</th>\n",
              "    </tr>\n",
              "  </thead>\n",
              "  <tbody>\n",
              "    <tr>\n",
              "      <th>466</th>\n",
              "      <td>1</td>\n",
              "      <td>0</td>\n",
              "    </tr>\n",
              "    <tr>\n",
              "      <th>431</th>\n",
              "      <td>2</td>\n",
              "      <td>1</td>\n",
              "    </tr>\n",
              "    <tr>\n",
              "      <th>459</th>\n",
              "      <td>3</td>\n",
              "      <td>1</td>\n",
              "    </tr>\n",
              "    <tr>\n",
              "      <th>345</th>\n",
              "      <td>4</td>\n",
              "      <td>1</td>\n",
              "    </tr>\n",
              "    <tr>\n",
              "      <th>376</th>\n",
              "      <td>5</td>\n",
              "      <td>1</td>\n",
              "    </tr>\n",
              "    <tr>\n",
              "      <th>...</th>\n",
              "      <td>...</td>\n",
              "      <td>...</td>\n",
              "    </tr>\n",
              "    <tr>\n",
              "      <th>315</th>\n",
              "      <td>496</td>\n",
              "      <td>1</td>\n",
              "    </tr>\n",
              "    <tr>\n",
              "      <th>337</th>\n",
              "      <td>497</td>\n",
              "      <td>1</td>\n",
              "    </tr>\n",
              "    <tr>\n",
              "      <th>164</th>\n",
              "      <td>498</td>\n",
              "      <td>0</td>\n",
              "    </tr>\n",
              "    <tr>\n",
              "      <th>151</th>\n",
              "      <td>499</td>\n",
              "      <td>1</td>\n",
              "    </tr>\n",
              "    <tr>\n",
              "      <th>201</th>\n",
              "      <td>500</td>\n",
              "      <td>1</td>\n",
              "    </tr>\n",
              "  </tbody>\n",
              "</table>\n",
              "<p>500 rows × 2 columns</p>\n",
              "</div>"
            ],
            "text/plain": [
              "      id label\n",
              "466    1     0\n",
              "431    2     1\n",
              "459    3     1\n",
              "345    4     1\n",
              "376    5     1\n",
              "..   ...   ...\n",
              "315  496     1\n",
              "337  497     1\n",
              "164  498     0\n",
              "151  499     1\n",
              "201  500     1\n",
              "\n",
              "[500 rows x 2 columns]"
            ]
          },
          "metadata": {},
          "execution_count": 19
        }
      ]
    },
    {
      "cell_type": "code",
      "metadata": {
        "id": "dv3TE0a5GBF2"
      },
      "source": [
        ""
      ],
      "execution_count": 19,
      "outputs": []
    }
  ]
}