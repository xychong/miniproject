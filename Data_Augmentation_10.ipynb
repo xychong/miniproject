{
  "nbformat": 4,
  "nbformat_minor": 0,
  "metadata": {
    "colab": {
      "name": "Data Augmentation 10.ipynb",
      "provenance": [],
      "collapsed_sections": [],
      "authorship_tag": "ABX9TyPNtK4L4JibkldePXq7tm1O",
      "include_colab_link": true
    },
    "kernelspec": {
      "name": "python3",
      "display_name": "Python 3"
    },
    "language_info": {
      "name": "python"
    }
  },
  "cells": [
    {
      "cell_type": "markdown",
      "metadata": {
        "id": "view-in-github",
        "colab_type": "text"
      },
      "source": [
        "<a href=\"https://colab.research.google.com/github/xychong/miniproject/blob/main/Data_Augmentation_10.ipynb\" target=\"_parent\"><img src=\"https://colab.research.google.com/assets/colab-badge.svg\" alt=\"Open In Colab\"/></a>"
      ]
    },
    {
      "cell_type": "code",
      "metadata": {
        "id": "J7CfOEAMI2p5"
      },
      "source": [
        "import tensorflow as tf\n",
        "import numpy as np\n",
        "from tensorflow import keras\n",
        "import os\n",
        "import cv2\n",
        "from tensorflow.keras.preprocessing.image import ImageDataGenerator\n",
        "from tensorflow.keras.preprocessing import image\n",
        "import matplotlib.pyplot as plt\n",
        "\n",
        "import pandas as pd\n",
        "import numpy as np"
      ],
      "execution_count": 1,
      "outputs": []
    },
    {
      "cell_type": "code",
      "metadata": {
        "colab": {
          "base_uri": "https://localhost:8080/"
        },
        "id": "P5G4pWhAI6wx",
        "outputId": "104e255c-5569-447a-ea87-78ceff2f4a1c"
      },
      "source": [
        "from google.colab import drive\n",
        "drive.mount('/content/drive')"
      ],
      "execution_count": 2,
      "outputs": [
        {
          "output_type": "stream",
          "name": "stdout",
          "text": [
            "Mounted at /content/drive\n"
          ]
        }
      ]
    },
    {
      "cell_type": "code",
      "metadata": {
        "id": "5CC5BY7zI8HB"
      },
      "source": [
        "train_path = \"/content/drive/MyDrive/Data/train\"\n",
        "train_path_cat = \"/content/drive/MyDrive/Data/train/cat\"\n",
        "train_path_dog = \"/content/drive/MyDrive/Data/train/dog\"\n",
        "\n",
        "val_path = \"/content/drive/MyDrive/Data/val\"\n",
        "val_path_cat = \"/content/drive/MyDrive/Data/val/cat\"\n",
        "val_path_dog = \"/content/drive/MyDrive/Data/val/dog\"\n",
        "\n",
        "test_path = \"/content/drive/MyDrive/Data/test/\""
      ],
      "execution_count": 3,
      "outputs": []
    },
    {
      "cell_type": "code",
      "metadata": {
        "id": "_Vu2ishIJAXY"
      },
      "source": [
        "train_datagen = ImageDataGenerator(rescale=1./255, rotation_range=40, width_shift_range=0.2, height_shift_range=0.2, shear_range=0.2, zoom_range=0.1, horizontal_flip=True, fill_mode='nearest')\n",
        "#train_datagen = ImageDataGenerator(rescale=1/255)\n",
        "val_datagen = ImageDataGenerator(rescale=1./255)\n",
        "test_datagen = ImageDataGenerator(rescale=1./255)"
      ],
      "execution_count": 4,
      "outputs": []
    },
    {
      "cell_type": "code",
      "metadata": {
        "colab": {
          "base_uri": "https://localhost:8080/"
        },
        "id": "YjoLT0ODJFJw",
        "outputId": "288eb77c-2b45-411d-c00f-0feeb2870c32"
      },
      "source": [
        "train_dataset = train_datagen.flow_from_directory(train_path,\n",
        "                                                  target_size=(150,150),\n",
        "                                                  batch_size = 32,\n",
        "                                                  class_mode = 'binary')\n",
        "\n",
        "val_dataset = val_datagen.flow_from_directory(val_path,\n",
        "                                              target_size=(150,150),\n",
        "                                              batch_size = 32,\n",
        "                                              class_mode = 'binary')"
      ],
      "execution_count": 5,
      "outputs": [
        {
          "output_type": "stream",
          "name": "stdout",
          "text": [
            "Found 3200 images belonging to 2 classes.\n",
            "Found 800 images belonging to 2 classes.\n"
          ]
        }
      ]
    },
    {
      "cell_type": "code",
      "metadata": {
        "colab": {
          "base_uri": "https://localhost:8080/"
        },
        "id": "Lp-HEJOrJWVR",
        "outputId": "5f1e0b5d-dcbf-4d1d-fbe6-f5d113321500"
      },
      "source": [
        "from tensorflow.keras.applications import VGG16\n",
        "vgg_base = VGG16(weights='imagenet',    # use weights for ImageNet\n",
        "                 include_top=False,     # drop the Dense layers!\n",
        "                 input_shape=(150, 150, 3))\n",
        "print(vgg_base.summary())"
      ],
      "execution_count": 6,
      "outputs": [
        {
          "output_type": "stream",
          "name": "stdout",
          "text": [
            "Downloading data from https://storage.googleapis.com/tensorflow/keras-applications/vgg16/vgg16_weights_tf_dim_ordering_tf_kernels_notop.h5\n",
            "58892288/58889256 [==============================] - 1s 0us/step\n",
            "58900480/58889256 [==============================] - 1s 0us/step\n",
            "Model: \"vgg16\"\n",
            "_________________________________________________________________\n",
            "Layer (type)                 Output Shape              Param #   \n",
            "=================================================================\n",
            "input_1 (InputLayer)         [(None, 150, 150, 3)]     0         \n",
            "_________________________________________________________________\n",
            "block1_conv1 (Conv2D)        (None, 150, 150, 64)      1792      \n",
            "_________________________________________________________________\n",
            "block1_conv2 (Conv2D)        (None, 150, 150, 64)      36928     \n",
            "_________________________________________________________________\n",
            "block1_pool (MaxPooling2D)   (None, 75, 75, 64)        0         \n",
            "_________________________________________________________________\n",
            "block2_conv1 (Conv2D)        (None, 75, 75, 128)       73856     \n",
            "_________________________________________________________________\n",
            "block2_conv2 (Conv2D)        (None, 75, 75, 128)       147584    \n",
            "_________________________________________________________________\n",
            "block2_pool (MaxPooling2D)   (None, 37, 37, 128)       0         \n",
            "_________________________________________________________________\n",
            "block3_conv1 (Conv2D)        (None, 37, 37, 256)       295168    \n",
            "_________________________________________________________________\n",
            "block3_conv2 (Conv2D)        (None, 37, 37, 256)       590080    \n",
            "_________________________________________________________________\n",
            "block3_conv3 (Conv2D)        (None, 37, 37, 256)       590080    \n",
            "_________________________________________________________________\n",
            "block3_pool (MaxPooling2D)   (None, 18, 18, 256)       0         \n",
            "_________________________________________________________________\n",
            "block4_conv1 (Conv2D)        (None, 18, 18, 512)       1180160   \n",
            "_________________________________________________________________\n",
            "block4_conv2 (Conv2D)        (None, 18, 18, 512)       2359808   \n",
            "_________________________________________________________________\n",
            "block4_conv3 (Conv2D)        (None, 18, 18, 512)       2359808   \n",
            "_________________________________________________________________\n",
            "block4_pool (MaxPooling2D)   (None, 9, 9, 512)         0         \n",
            "_________________________________________________________________\n",
            "block5_conv1 (Conv2D)        (None, 9, 9, 512)         2359808   \n",
            "_________________________________________________________________\n",
            "block5_conv2 (Conv2D)        (None, 9, 9, 512)         2359808   \n",
            "_________________________________________________________________\n",
            "block5_conv3 (Conv2D)        (None, 9, 9, 512)         2359808   \n",
            "_________________________________________________________________\n",
            "block5_pool (MaxPooling2D)   (None, 4, 4, 512)         0         \n",
            "=================================================================\n",
            "Total params: 14,714,688\n",
            "Trainable params: 14,714,688\n",
            "Non-trainable params: 0\n",
            "_________________________________________________________________\n",
            "None\n"
          ]
        }
      ]
    },
    {
      "cell_type": "code",
      "metadata": {
        "colab": {
          "base_uri": "https://localhost:8080/"
        },
        "id": "6YzqY50JJXn6",
        "outputId": "8e53505d-7a8b-4767-d373-246338d84e0b"
      },
      "source": [
        "model = keras.Sequential([\n",
        "        # our vgg16_base model added as a layer\n",
        "        vgg_base,\n",
        "        # here is our custom prediction layer \n",
        "        keras.layers.Flatten(),\n",
        "        #keras.layers.Dropout(0.50),\n",
        "        keras.layers.Dense(1024, activation='relu'),\n",
        "        keras.layers.Dropout(0.20),        \n",
        "        keras.layers.Dense(512, activation='relu'),\n",
        "        keras.layers.Dropout(0.10),         \n",
        "        keras.layers.Dense(1, activation='sigmoid')    \n",
        "    ])\n",
        "\n",
        "# Unfreeze the base model\n",
        "vgg_base.trainable = True\n",
        "\n",
        "# Observe how many layers are in the base model\n",
        "# 19\n",
        "print(\"Number of layers in the base model: \", len(vgg_base.layers))\n",
        "\n",
        "# Fine-tune from this layer onwards\n",
        "fine_tune_at = 16\n",
        "\n",
        "# Freeze all layers before 'fine_tune_at' layer\n",
        "for layer in vgg_base.layers[:fine_tune_at]:\n",
        "  layer.trainable = False\n",
        "\n",
        "for layer in vgg_base.layers:\n",
        "  print(layer, layer.trainable)"
      ],
      "execution_count": 7,
      "outputs": [
        {
          "output_type": "stream",
          "name": "stdout",
          "text": [
            "Number of layers in the base model:  19\n",
            "<keras.engine.input_layer.InputLayer object at 0x7fcb36ce9450> False\n",
            "<keras.layers.convolutional.Conv2D object at 0x7fcb364eeb50> False\n",
            "<keras.layers.convolutional.Conv2D object at 0x7fcb344a3dd0> False\n",
            "<keras.layers.pooling.MaxPooling2D object at 0x7fcb35c55f50> False\n",
            "<keras.layers.convolutional.Conv2D object at 0x7fcb35b76950> False\n",
            "<keras.layers.convolutional.Conv2D object at 0x7fcb35b7bc90> False\n",
            "<keras.layers.pooling.MaxPooling2D object at 0x7fcb35b7d810> False\n",
            "<keras.layers.convolutional.Conv2D object at 0x7fcb35b80f10> False\n",
            "<keras.layers.convolutional.Conv2D object at 0x7fcb35b8b650> False\n",
            "<keras.layers.convolutional.Conv2D object at 0x7fcb35b80b90> False\n",
            "<keras.layers.pooling.MaxPooling2D object at 0x7fcb35b16150> False\n",
            "<keras.layers.convolutional.Conv2D object at 0x7fcb35b1a910> False\n",
            "<keras.layers.convolutional.Conv2D object at 0x7fcb35b1ded0> False\n",
            "<keras.layers.convolutional.Conv2D object at 0x7fcb35b132d0> False\n",
            "<keras.layers.pooling.MaxPooling2D object at 0x7fcb35b2a9d0> False\n",
            "<keras.layers.convolutional.Conv2D object at 0x7fcb35b33b90> False\n",
            "<keras.layers.convolutional.Conv2D object at 0x7fcb35b2d610> True\n",
            "<keras.layers.convolutional.Conv2D object at 0x7fcb368af190> True\n",
            "<keras.layers.pooling.MaxPooling2D object at 0x7fcb35b44350> True\n"
          ]
        }
      ]
    },
    {
      "cell_type": "code",
      "metadata": {
        "id": "uO4sHoZ8JZ6z"
      },
      "source": [
        "# Adjust the learning rate of Adam optimizer\n",
        "opt = tf.keras.optimizers.Adam(learning_rate=0.0001)\n",
        "\n",
        "model.compile(optimizer=opt ,loss='binary_crossentropy',metrics=['accuracy'])"
      ],
      "execution_count": 8,
      "outputs": []
    },
    {
      "cell_type": "code",
      "metadata": {
        "colab": {
          "base_uri": "https://localhost:8080/"
        },
        "id": "9H9v01f-Jbg4",
        "outputId": "3cc16647-af2d-499d-8b23-5375ad23ef7e"
      },
      "source": [
        "model.summary()"
      ],
      "execution_count": 9,
      "outputs": [
        {
          "output_type": "stream",
          "name": "stdout",
          "text": [
            "Model: \"sequential\"\n",
            "_________________________________________________________________\n",
            "Layer (type)                 Output Shape              Param #   \n",
            "=================================================================\n",
            "vgg16 (Functional)           (None, 4, 4, 512)         14714688  \n",
            "_________________________________________________________________\n",
            "flatten (Flatten)            (None, 8192)              0         \n",
            "_________________________________________________________________\n",
            "dense (Dense)                (None, 1024)              8389632   \n",
            "_________________________________________________________________\n",
            "dropout (Dropout)            (None, 1024)              0         \n",
            "_________________________________________________________________\n",
            "dense_1 (Dense)              (None, 512)               524800    \n",
            "_________________________________________________________________\n",
            "dropout_1 (Dropout)          (None, 512)               0         \n",
            "_________________________________________________________________\n",
            "dense_2 (Dense)              (None, 1)                 513       \n",
            "=================================================================\n",
            "Total params: 23,629,633\n",
            "Trainable params: 13,634,561\n",
            "Non-trainable params: 9,995,072\n",
            "_________________________________________________________________\n"
          ]
        }
      ]
    },
    {
      "cell_type": "code",
      "metadata": {
        "colab": {
          "base_uri": "https://localhost:8080/"
        },
        "id": "QNKfeEw8Jcy7",
        "outputId": "567d778d-9c99-491e-fe8b-6b439390982e"
      },
      "source": [
        "train_steps = train_dataset.n // 32\n",
        "val_steps = val_dataset.n // 32\n",
        "\n",
        "print(train_steps)\n",
        "print(val_steps)"
      ],
      "execution_count": 10,
      "outputs": [
        {
          "output_type": "stream",
          "name": "stdout",
          "text": [
            "100\n",
            "25\n"
          ]
        }
      ]
    },
    {
      "cell_type": "code",
      "metadata": {
        "colab": {
          "base_uri": "https://localhost:8080/"
        },
        "id": "7J9mBmPQJeJ_",
        "outputId": "bf9666aa-a9c5-4e2e-f73e-486c037cbfcd"
      },
      "source": [
        "training = model.fit(train_dataset, steps_per_epoch=train_steps, epochs=10, validation_data=val_dataset, validation_steps=val_steps)"
      ],
      "execution_count": 11,
      "outputs": [
        {
          "output_type": "stream",
          "name": "stdout",
          "text": [
            "Epoch 1/10\n",
            "100/100 [==============================] - 1449s 14s/step - loss: 0.4066 - accuracy: 0.7997 - val_loss: 0.2940 - val_accuracy: 0.8825\n",
            "Epoch 2/10\n",
            "100/100 [==============================] - 828s 8s/step - loss: 0.2810 - accuracy: 0.8800 - val_loss: 0.1947 - val_accuracy: 0.9187\n",
            "Epoch 3/10\n",
            "100/100 [==============================] - 846s 8s/step - loss: 0.2403 - accuracy: 0.8969 - val_loss: 0.1798 - val_accuracy: 0.9237\n",
            "Epoch 4/10\n",
            "100/100 [==============================] - 845s 8s/step - loss: 0.2251 - accuracy: 0.9025 - val_loss: 0.2284 - val_accuracy: 0.9112\n",
            "Epoch 5/10\n",
            "100/100 [==============================] - 828s 8s/step - loss: 0.1957 - accuracy: 0.9228 - val_loss: 0.1567 - val_accuracy: 0.9337\n",
            "Epoch 6/10\n",
            "100/100 [==============================] - 841s 8s/step - loss: 0.1791 - accuracy: 0.9278 - val_loss: 0.1683 - val_accuracy: 0.9187\n",
            "Epoch 7/10\n",
            "100/100 [==============================] - 838s 8s/step - loss: 0.1727 - accuracy: 0.9281 - val_loss: 0.1765 - val_accuracy: 0.9275\n",
            "Epoch 8/10\n",
            "100/100 [==============================] - 831s 8s/step - loss: 0.1610 - accuracy: 0.9362 - val_loss: 0.1573 - val_accuracy: 0.9350\n",
            "Epoch 9/10\n",
            "100/100 [==============================] - 828s 8s/step - loss: 0.1476 - accuracy: 0.9425 - val_loss: 0.1900 - val_accuracy: 0.9237\n",
            "Epoch 10/10\n",
            "100/100 [==============================] - 833s 8s/step - loss: 0.1409 - accuracy: 0.9469 - val_loss: 0.1696 - val_accuracy: 0.9300\n"
          ]
        }
      ]
    },
    {
      "cell_type": "code",
      "metadata": {
        "colab": {
          "base_uri": "https://localhost:8080/",
          "height": 295
        },
        "id": "wA3pK1yoJfZt",
        "outputId": "184c5fe1-57de-4473-8a18-5771647c385b"
      },
      "source": [
        "plt.plot(training.history['accuracy'])\n",
        "plt.plot(training.history['val_accuracy'])\n",
        "plt.title('Model Accuracy')\n",
        "plt.ylabel('Accuracy')\n",
        "plt.xlabel('Epoch')\n",
        "plt.legend(['train', 'val'], loc='upper left')\n",
        "plt.show()"
      ],
      "execution_count": 12,
      "outputs": [
        {
          "output_type": "display_data",
          "data": {
            "image/png": "[encoded data removed]",
            "text/plain": [
              "<Figure size 432x288 with 1 Axes>"
            ]
          },
          "metadata": {
            "needs_background": "light"
          }
        }
      ]
    },
    {
      "cell_type": "code",
      "metadata": {
        "colab": {
          "base_uri": "https://localhost:8080/",
          "height": 295
        },
        "id": "90jj83NAJi5j",
        "outputId": "982f6a96-096a-4562-c2e5-fe0b969e5fb8"
      },
      "source": [
        "plt.plot(training.history['loss'])\n",
        "plt.plot(training.history['val_loss'])\n",
        "plt.title('Model Loss')\n",
        "plt.ylabel('Loss')\n",
        "plt.xlabel('Epoch')\n",
        "plt.legend(['train', 'val'], loc='upper left')\n",
        "plt.show()"
      ],
      "execution_count": 13,
      "outputs": [
        {
          "output_type": "display_data",
          "data": {
            "image/png": "[encoded data removed]",
            "text/plain": [
              "<Figure size 432x288 with 1 Axes>"
            ]
          },
          "metadata": {
            "needs_background": "light"
          }
        }
      ]
    },
    {
      "cell_type": "code",
      "metadata": {
        "colab": {
          "base_uri": "https://localhost:8080/",
          "height": 49
        },
        "id": "Uu-jhJg1JkeV",
        "outputId": "4a979d61-6e81-46e2-a708-2e1ac90546b5"
      },
      "source": [
        "submission = pd.DataFrame(columns=['id','label'])\n",
        "submission"
      ],
      "execution_count": 14,
      "outputs": [
        {
          "output_type": "execute_result",
          "data": {
            "text/html": [
              "<div>\n",
              "<style scoped>\n",
              "    .dataframe tbody tr th:only-of-type {\n",
              "        vertical-align: middle;\n",
              "    }\n",
              "\n",
              "    .dataframe tbody tr th {\n",
              "        vertical-align: top;\n",
              "    }\n",
              "\n",
              "    .dataframe thead th {\n",
              "        text-align: right;\n",
              "    }\n",
              "</style>\n",
              "<table border=\"1\" class=\"dataframe\">\n",
              "  <thead>\n",
              "    <tr style=\"text-align: right;\">\n",
              "      <th></th>\n",
              "      <th>id</th>\n",
              "      <th>label</th>\n",
              "    </tr>\n",
              "  </thead>\n",
              "  <tbody>\n",
              "  </tbody>\n",
              "</table>\n",
              "</div>"
            ],
            "text/plain": [
              "Empty DataFrame\n",
              "Columns: [id, label]\n",
              "Index: []"
            ]
          },
          "metadata": {},
          "execution_count": 14
        }
      ]
    },
    {
      "cell_type": "code",
      "metadata": {
        "colab": {
          "base_uri": "https://localhost:8080/"
        },
        "id": "X2UhbHkJJluz",
        "outputId": "960e1a1b-b287-4dd2-c6d7-cd07b03cbd06"
      },
      "source": [
        "test_label = []\n",
        "count = 0\n",
        "for filename in os.listdir(test_path):\n",
        "  first_word = filename.split('.')[0]\n",
        "  img = image.load_img(test_path + filename, target_size = (150,150)) # load and resize image as 150x150\n",
        "  Y = image.img_to_array(img) # convert image into a numpy array \n",
        "  X = np.expand_dims(Y,axis=0) # expand the dimension of that array\n",
        "  val = model.predict(X)\n",
        "  test_label.append(int(val))\n",
        "  submission = submission.append({'id': int(first_word),'label': int(val)}, ignore_index=True)\n",
        "  count += 1\n",
        "\n",
        "print(test_label)"
      ],
      "execution_count": 15,
      "outputs": [
        {
          "output_type": "stream",
          "name": "stdout",
          "text": [
            "[1, 1, 1, 1, 1, 1, 0, 1, 1, 1, 0, 1, 1, 0, 1, 1, 1, 1, 1, 1, 1, 1, 1, 1, 0, 0, 1, 1, 1, 1, 0, 1, 1, 1, 0, 1, 1, 1, 0, 0, 1, 1, 1, 0, 1, 1, 1, 0, 1, 1, 1, 1, 1, 1, 1, 1, 1, 1, 1, 0, 1, 1, 0, 1, 0, 1, 1, 1, 1, 1, 0, 1, 1, 1, 1, 0, 1, 1, 0, 1, 1, 0, 1, 1, 1, 1, 1, 1, 1, 1, 1, 1, 0, 1, 0, 1, 1, 0, 0, 1, 1, 0, 1, 1, 1, 0, 1, 0, 0, 1, 1, 1, 1, 1, 1, 0, 0, 1, 1, 1, 1, 1, 1, 1, 0, 1, 1, 1, 1, 1, 1, 0, 1, 1, 1, 1, 1, 1, 1, 0, 1, 0, 1, 0, 1, 0, 1, 1, 1, 1, 1, 1, 1, 1, 0, 1, 1, 1, 1, 1, 1, 1, 1, 1, 0, 1, 0, 1, 1, 1, 1, 1, 1, 0, 1, 1, 1, 1, 1, 1, 1, 1, 1, 1, 1, 1, 0, 0, 1, 0, 1, 1, 1, 1, 1, 1, 1, 0, 1, 1, 1, 1, 1, 0, 1, 1, 0, 1, 0, 1, 0, 0, 0, 0, 1, 1, 0, 1, 0, 1, 0, 1, 1, 1, 1, 1, 1, 0, 0, 1, 1, 1, 1, 1, 1, 1, 1, 1, 0, 0, 1, 0, 1, 1, 1, 1, 1, 1, 1, 0, 1, 0, 1, 1, 1, 1, 1, 1, 0, 1, 0, 1, 1, 0, 1, 1, 1, 1, 1, 1, 1, 1, 1, 1, 0, 1, 1, 1, 1, 1, 0, 0, 0, 0, 0, 0, 0, 1, 1, 1, 0, 1, 1, 1, 0, 1, 0, 1, 1, 1, 1, 1, 0, 1, 1, 0, 1, 0, 1, 1, 0, 0, 1, 1, 1, 1, 1, 1, 0, 1, 1, 1, 1, 0, 0, 1, 1, 1, 1, 1, 1, 1, 1, 1, 1, 0, 1, 1, 1, 1, 1, 0, 1, 0, 1, 1, 1, 1, 0, 1, 1, 1, 1, 1, 1, 1, 1, 1, 1, 1, 1, 1, 1, 0, 1, 0, 1, 1, 1, 1, 1, 0, 1, 1, 1, 0, 1, 1, 0, 1, 0, 1, 0, 1, 1, 1, 1, 0, 0, 1, 1, 1, 0, 1, 0, 1, 1, 0, 1, 1, 1, 1, 1, 1, 1, 1, 0, 1, 1, 1, 1, 1, 1, 1, 1, 0, 0, 0, 0, 1, 1, 1, 0, 1, 1, 1, 1, 0, 1, 1, 1, 1, 1, 1, 0, 1, 1, 1, 1, 1, 1, 1, 1, 1, 1, 1, 1, 1, 0, 0, 0, 1, 1, 0, 0, 0, 0, 1, 1, 1, 1, 1, 1, 1, 1, 1, 1, 1, 1, 1, 1, 0, 1, 1, 1, 1, 1, 1, 1, 1, 1, 1, 1, 0, 1, 0, 1, 1, 1, 1, 1, 1, 1, 1, 1, 0, 1, 1, 1, 1]\n"
          ]
        }
      ]
    },
    {
      "cell_type": "code",
      "metadata": {
        "id": "VfDF5nTpJnHr"
      },
      "source": [
        "submission\n",
        "submission.to_csv('/content/drive/MyDrive/Data/submission10_aug.csv')  "
      ],
      "execution_count": 16,
      "outputs": []
    },
    {
      "cell_type": "code",
      "metadata": {
        "id": "iad0WVYTJpKH"
      },
      "source": [
        "sorted_submission = submission.sort_values('id')\n",
        "sorted_submission\n",
        "sorted_submission.to_csv('/content/drive/MyDrive/Data/sorted_submission10_aug.csv')  "
      ],
      "execution_count": 17,
      "outputs": []
    },
    {
      "cell_type": "code",
      "metadata": {
        "colab": {
          "base_uri": "https://localhost:8080/",
          "height": 419
        },
        "id": "VEhn24lCJqrv",
        "outputId": "0b0bbed9-6663-4f01-f156-6e87a0c25b99"
      },
      "source": [
        "sorted_submission"
      ],
      "execution_count": 18,
      "outputs": [
        {
          "output_type": "execute_result",
          "data": {
            "text/html": [
              "<div>\n",
              "<style scoped>\n",
              "    .dataframe tbody tr th:only-of-type {\n",
              "        vertical-align: middle;\n",
              "    }\n",
              "\n",
              "    .dataframe tbody tr th {\n",
              "        vertical-align: top;\n",
              "    }\n",
              "\n",
              "    .dataframe thead th {\n",
              "        text-align: right;\n",
              "    }\n",
              "</style>\n",
              "<table border=\"1\" class=\"dataframe\">\n",
              "  <thead>\n",
              "    <tr style=\"text-align: right;\">\n",
              "      <th></th>\n",
              "      <th>id</th>\n",
              "      <th>label</th>\n",
              "    </tr>\n",
              "  </thead>\n",
              "  <tbody>\n",
              "    <tr>\n",
              "      <th>466</th>\n",
              "      <td>1</td>\n",
              "      <td>1</td>\n",
              "    </tr>\n",
              "    <tr>\n",
              "      <th>431</th>\n",
              "      <td>2</td>\n",
              "      <td>1</td>\n",
              "    </tr>\n",
              "    <tr>\n",
              "      <th>459</th>\n",
              "      <td>3</td>\n",
              "      <td>1</td>\n",
              "    </tr>\n",
              "    <tr>\n",
              "      <th>345</th>\n",
              "      <td>4</td>\n",
              "      <td>1</td>\n",
              "    </tr>\n",
              "    <tr>\n",
              "      <th>376</th>\n",
              "      <td>5</td>\n",
              "      <td>1</td>\n",
              "    </tr>\n",
              "    <tr>\n",
              "      <th>...</th>\n",
              "      <td>...</td>\n",
              "      <td>...</td>\n",
              "    </tr>\n",
              "    <tr>\n",
              "      <th>315</th>\n",
              "      <td>496</td>\n",
              "      <td>1</td>\n",
              "    </tr>\n",
              "    <tr>\n",
              "      <th>337</th>\n",
              "      <td>497</td>\n",
              "      <td>1</td>\n",
              "    </tr>\n",
              "    <tr>\n",
              "      <th>164</th>\n",
              "      <td>498</td>\n",
              "      <td>0</td>\n",
              "    </tr>\n",
              "    <tr>\n",
              "      <th>151</th>\n",
              "      <td>499</td>\n",
              "      <td>1</td>\n",
              "    </tr>\n",
              "    <tr>\n",
              "      <th>201</th>\n",
              "      <td>500</td>\n",
              "      <td>1</td>\n",
              "    </tr>\n",
              "  </tbody>\n",
              "</table>\n",
              "<p>500 rows × 2 columns</p>\n",
              "</div>"
            ],
            "text/plain": [
              "      id label\n",
              "466    1     1\n",
              "431    2     1\n",
              "459    3     1\n",
              "345    4     1\n",
              "376    5     1\n",
              "..   ...   ...\n",
              "315  496     1\n",
              "337  497     1\n",
              "164  498     0\n",
              "151  499     1\n",
              "201  500     1\n",
              "\n",
              "[500 rows x 2 columns]"
            ]
          },
          "metadata": {},
          "execution_count": 18
        }
      ]
    }
  ]
}